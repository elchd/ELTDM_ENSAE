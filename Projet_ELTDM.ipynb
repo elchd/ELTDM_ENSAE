{
  "nbformat": 4,
  "nbformat_minor": 0,
  "metadata": {
    "colab": {
      "name": "Projet_ELTDM.ipynb",
      "provenance": [],
      "collapsed_sections": []
    },
    "kernelspec": {
      "display_name": "Python 3",
      "language": "python",
      "name": "python3"
    },
    "language_info": {
      "codemirror_mode": {
        "name": "ipython",
        "version": 3
      },
      "file_extension": ".py",
      "mimetype": "text/x-python",
      "name": "python",
      "nbconvert_exporter": "python",
      "pygments_lexer": "ipython3",
      "version": "3.7.4"
    }
  },
  "cells": [
    {
      "cell_type": "markdown",
      "metadata": {
        "colab_type": "text",
        "id": "5_yc8fJIZBxT"
      },
      "source": [
        "# <center>Parallélisation du Filtre de Kalman </center>\n",
        "### <center> *BLANCHARD Eléonore, DEGUY Inès* </center> "
      ]
    },
    {
      "cell_type": "code",
      "metadata": {
        "colab_type": "code",
        "id": "nkbP09f3smv_",
        "outputId": "23c5c7dd-246d-41bb-9452-29920d432269",
        "colab": {}
      },
      "source": [
        "from jyquickhelper import add_notebook_menu\n",
        "add_notebook_menu()"
      ],
      "execution_count": 0,
      "outputs": [
        {
          "output_type": "execute_result",
          "data": {
            "text/html": [
              "<div id=\"my_id_menu_nb\">run previous cell, wait for 2 seconds</div>\n",
              "<script>\n",
              "function repeat_indent_string(n){\n",
              "    var a = \"\" ;\n",
              "    for ( ; n > 0 ; --n)\n",
              "        a += \"    \";\n",
              "    return a;\n",
              "}\n",
              "// look up into all sections and builds an automated menu //\n",
              "var update_menu_string = function(begin, lfirst, llast, sformat, send, keep_item, begin_format, end_format) {\n",
              "    var anchors = document.getElementsByClassName(\"section\");\n",
              "    if (anchors.length == 0) {\n",
              "        anchors = document.getElementsByClassName(\"text_cell_render rendered_html\");\n",
              "    }\n",
              "    var i,t;\n",
              "    var text_menu = begin;\n",
              "    var text_memo = \"<pre>\\nlength:\" + anchors.length + \"\\n\";\n",
              "    var ind = \"\";\n",
              "    var memo_level = 1;\n",
              "    var href;\n",
              "    var tags = [];\n",
              "    var main_item = 0;\n",
              "    var format_open = 0;\n",
              "    for (i = 0; i <= llast; i++)\n",
              "        tags.push(\"h\" + i);\n",
              "\n",
              "    for (i = 0; i < anchors.length; i++) {\n",
              "        text_memo += \"**\" + anchors[i].id + \"--\\n\";\n",
              "\n",
              "        var child = null;\n",
              "        for(t = 0; t < tags.length; t++) {\n",
              "            var r = anchors[i].getElementsByTagName(tags[t]);\n",
              "            if (r.length > 0) {\n",
              "child = r[0];\n",
              "break;\n",
              "            }\n",
              "        }\n",
              "        if (child == null) {\n",
              "            text_memo += \"null\\n\";\n",
              "            continue;\n",
              "        }\n",
              "        if (anchors[i].hasAttribute(\"id\")) {\n",
              "            // when converted in RST\n",
              "            href = anchors[i].id;\n",
              "            text_memo += \"#1-\" + href;\n",
              "            // passer à child suivant (le chercher)\n",
              "        }\n",
              "        else if (child.hasAttribute(\"id\")) {\n",
              "            // in a notebook\n",
              "            href = child.id;\n",
              "            text_memo += \"#2-\" + href;\n",
              "        }\n",
              "        else {\n",
              "            text_memo += \"#3-\" + \"*\" + \"\\n\";\n",
              "            continue;\n",
              "        }\n",
              "        var title = child.textContent;\n",
              "        var level = parseInt(child.tagName.substring(1,2));\n",
              "\n",
              "        text_memo += \"--\" + level + \"?\" + lfirst + \"--\" + title + \"\\n\";\n",
              "\n",
              "        if ((level < lfirst) || (level > llast)) {\n",
              "            continue ;\n",
              "        }\n",
              "        if (title.endsWith('¶')) {\n",
              "            title = title.substring(0,title.length-1).replace(\"<\", \"&lt;\")\n",
              "         .replace(\">\", \"&gt;\").replace(\"&\", \"&amp;\");\n",
              "        }\n",
              "        if (title.length == 0) {\n",
              "            continue;\n",
              "        }\n",
              "\n",
              "        while (level < memo_level) {\n",
              "            text_menu += end_format + \"</ul>\\n\";\n",
              "            format_open -= 1;\n",
              "            memo_level -= 1;\n",
              "        }\n",
              "        if (level == lfirst) {\n",
              "            main_item += 1;\n",
              "        }\n",
              "        if (keep_item != -1 && main_item != keep_item + 1) {\n",
              "            // alert(main_item + \" - \" + level + \" - \" + keep_item);\n",
              "            continue;\n",
              "        }\n",
              "        while (level > memo_level) {\n",
              "            text_menu += \"<ul>\\n\";\n",
              "            memo_level += 1;\n",
              "        }\n",
              "        text_menu += repeat_indent_string(level-2);\n",
              "        text_menu += begin_format + sformat.replace(\"__HREF__\", href).replace(\"__TITLE__\", title);\n",
              "        format_open += 1;\n",
              "    }\n",
              "    while (1 < memo_level) {\n",
              "        text_menu += end_format + \"</ul>\\n\";\n",
              "        memo_level -= 1;\n",
              "        format_open -= 1;\n",
              "    }\n",
              "    text_menu += send;\n",
              "    //text_menu += \"\\n\" + text_memo;\n",
              "\n",
              "    while (format_open > 0) {\n",
              "        text_menu += end_format;\n",
              "        format_open -= 1;\n",
              "    }\n",
              "    return text_menu;\n",
              "};\n",
              "var update_menu = function() {\n",
              "    var sbegin = \"\";\n",
              "    var sformat = '<a href=\"#__HREF__\">__TITLE__</a>';\n",
              "    var send = \"\";\n",
              "    var begin_format = '<li>';\n",
              "    var end_format = '</li>';\n",
              "    var keep_item = -1;\n",
              "    var text_menu = update_menu_string(sbegin, 2, 4, sformat, send, keep_item,\n",
              "       begin_format, end_format);\n",
              "    var menu = document.getElementById(\"my_id_menu_nb\");\n",
              "    menu.innerHTML=text_menu;\n",
              "};\n",
              "window.setTimeout(update_menu,2000);\n",
              "            </script>"
            ],
            "text/plain": [
              "<IPython.core.display.HTML object>"
            ]
          },
          "metadata": {
            "tags": []
          },
          "execution_count": 1
        }
      ]
    },
    {
      "cell_type": "markdown",
      "metadata": {
        "colab_type": "text",
        "id": "933F_Sm4ZIRo"
      },
      "source": [
        "## 1. Introduction\n",
        "\n",
        "Ce projet a pour étude la parallélisation d'un algorithme séquentiel dans le but d'améliorer considérablement son temps d'exécution. Dans le cadre du Machine Learning, les données peuvent très vite devenir énormes et les algorithmes qui utilisent une approche séquentielle deviennent alors peu performant. La parallélisation permet une réduction considérable du temps d'exécution. Elle consiste à utiliser plusieurs processeurs (threads) à la place d'un seul processeur, les calculs effectués par l'algorithme seront alors dirigés vers un ensemble de processeurs à la place d'un seul. Il existe plusieurs manières de diminuer le temps d'exécution de ses algorithmes en les parallélisant. On peut paralléliser un algorithme en utilisant Cython, la programmation GPU ou Spark. Dans ce projet nous avons choisi d'utiliser Cython pour paralléliser notre algorithme séquentiel et nous avons aussi choisi de travailler sur la construction d'un algorithme du filtre de Kalman, très utilisé dans l'étude des séries temporelles dans des domaines tels que la finance, l'économie et le traitement du signal. \n"
      ]
    },
    {
      "cell_type": "markdown",
      "metadata": {
        "colab_type": "text",
        "id": "CJzihdABDlWU"
      },
      "source": [
        "## 2. Motivation \n",
        "\n",
        "Le but du projet est de construire un algorithme séquentiel puis de réussir à le paralléliser et enfin de comparer les temps d'exécution des algorithmes séquentiel et parallélisé. Nous avons aussi voulu pouvoir comparer nos algorithmes avec le temps d'exécution de la bibliothéque Numpy. \n",
        "\n",
        "Pour pouvoir paralléliser nos algorithmes nous avons implémenté des fonctions sans l'utilisation de Numpy ou autres bibliothèques. Une fois la fonction séquentielle créé, nous avons implémenté sa version paralléliser. Enfin, pour toutes les fonctions qui nous serviront à construire notre filtre de Kalman, nous avons comparé le temps d'exécution de la version séquentielle, de la version paralléliser et de la fonction disponible dans Numpy. Une fois les fonctions implémentées, nous avons créé notre algorithme de filtre de Kalman de trois façons différentes: une utilisant les fonctions séquentielles, les fonctions paralléliser et les fonctions de Numpy.  \n",
        "\n",
        "Notre projet se déroulera donc de la façon suivante, premièrement une partie traitera de la création de ses fonctions et de la comparaison de leur temps d'exécution. Puis, on implémentera le filtre de Kalman et une application de ce filtre."
      ]
    },
    {
      "cell_type": "markdown",
      "metadata": {
        "colab_type": "text",
        "id": "nwwHy_o2ZL9x"
      },
      "source": [
        "## 3. Présentation du filtre de Kalman\n",
        "\n",
        "\n",
        "Le filtre de Kalman est une méthode visant à estimer des paramètres d'un système évoluant dans le temps à partir de mesures bruitées. L'avantage de ce modèle par rapport à d'autres méthodes d'estimation telle qu'une simple régression linéaire est sa capacité de prédiction des paramètres et de rectification des erreurs.\n",
        "Dans ce projet nous utiliseront un filtre de Kalman en temps discret et sur une estimation linéaire des paramètres.\n",
        "\n",
        "On distingue deux phases dans le filtre de Kalman : la phase de prédiction et la phase de mise à jour. \n",
        "\n",
        "1.   **La phase de prédiction utilise l'état estimé de l'instant précédent pour produire une estimation de l'état courant.**\n",
        "2.   **L'étape de mise à jour, les observations de l'instant courant sont utilisées pour corriger l'état prédit dans le but d'obtenir une estimation plus précise.**\n",
        "\n",
        "Supposons que la série temporelle $y_{t}$, représentée par le vecteur $(y_{0}, y_{1},…,y_{n})$ soit observable et dépend de la variable $x_{t}$ qui n'est pas observable. Il faudra alors simuler sa valeur et sa variance $w_{t}$ dont nous ne connaissons pas la valeur non plus. \n",
        "\n",
        "Le modèle se présente donc comme suit :\n",
        "\n",
        "$x_{t}=a_{1}+a_{2}x_{t-1} + n_{t-1}$   \n",
        "\n",
        "$y_{t}=b_{1}+b_{2}x_{t} + e_{t}$\n",
        "\n",
        "$a_{i}$ et $b_{i}$ sont les paramètres à estimer, $n$ et $e$ sont des bruits gaussiens.\n",
        "\n",
        "La première équation est appelée équation d'état et la deuxième équation de mesure.  \n",
        "\n",
        " \n",
        "**Étape 1 : étape de la prévision**\n",
        "\n",
        "Nous calculons les deux prévisions suivantes:\n",
        " \n",
        "$x_{t/t-1}=a_{1,t-1}+a_{2,t-1}x_{t-1}$ \n",
        "\n",
        "$w_{t/t-1}=c^2_{1,t-1}w_{t-1} + var(e_{t})$\n",
        "\n",
        "**Étape 2 : étape de la révision**\n",
        "\n",
        "On dispose en $t$ d'une nouvelle observation $y_{t}$, on l'utilise pour calculer l'erreur de prévision $v_{t}$ et la variation suivante $w_{t}$: \n",
        "\n",
        "\n",
        "$v_{t}=y_{t}-a_{1}-a_{2}x_{t/t-1}$\n",
        "\n",
        "$var(v_{t})=v_{t}+a^2_{2,t-1}w_{t/t-1}$\n",
        "\n",
        "\n",
        "On utilise $v_{t}$ et $var(v_{t})$ pour pouvoir mettre à jour $x_{t}$et sa variance $w_{t}$.\n",
        "\n",
        "$x_{t}= x_{t/t-1}+\\frac{a_{2,t-1}w_{t/t-1}v_{t}}{var(v_{t})} $\n",
        "\n",
        "$w_{t}= w_{t/t-1}+\\frac{a^2_{2,t-1}w^2_{t/t-1}}{var(v_{t})} $\n",
        "\n",
        "On aura recourt à une méthode du maximum de vraissemblance pour estimer les paramètres."
      ]
    },
    {
      "cell_type": "code",
      "metadata": {
        "colab_type": "code",
        "id": "LaCGDF46ZBxX",
        "colab": {}
      },
      "source": [
        "%load_ext cython"
      ],
      "execution_count": 0,
      "outputs": []
    },
    {
      "cell_type": "code",
      "metadata": {
        "colab_type": "code",
        "id": "Zy4MZtJ8ZBxj",
        "colab": {}
      },
      "source": [
        "import numpy as np\n",
        "import time\n",
        "import matplotlib.pyplot as plt\n",
        "import pandas as pd "
      ],
      "execution_count": 0,
      "outputs": []
    },
    {
      "cell_type": "markdown",
      "metadata": {
        "colab_type": "text",
        "id": "zz4n_BNgZBxr"
      },
      "source": [
        "## 4. Calcul matriciel"
      ]
    },
    {
      "cell_type": "markdown",
      "metadata": {
        "colab_type": "text",
        "id": "xY36sau7smwt"
      },
      "source": [
        "### Fonction Dot"
      ]
    },
    {
      "cell_type": "markdown",
      "metadata": {
        "colab_type": "text",
        "id": "mClRGv3YZBxw"
      },
      "source": [
        "**`mat_dot(a, b)`** : Calcule le produit scalaire de deux matrices `a` et `b`."
      ]
    },
    {
      "cell_type": "markdown",
      "metadata": {
        "colab_type": "text",
        "id": "SiHNL751ZBxz"
      },
      "source": [
        "**Code séquentiel**"
      ]
    },
    {
      "cell_type": "code",
      "metadata": {
        "colab_type": "code",
        "id": "F2elJLV5ZBx1",
        "colab": {}
      },
      "source": [
        "def s_mat_dot(a, b):\n",
        "    n = a.shape[0]\n",
        "    p = a.shape[1]\n",
        "    q = b.shape[1]\n",
        "    \n",
        "    res = np.zeros((n,q))\n",
        "    \n",
        "    for i in range(n):\n",
        "        for j in range(q):\n",
        "            res[i,j] = 0\n",
        "            for k in range(p):\n",
        "                res[i,j] += a[i,k] * b[k,j]\n",
        "    return res "
      ],
      "execution_count": 0,
      "outputs": []
    },
    {
      "cell_type": "markdown",
      "metadata": {
        "colab_type": "text",
        "id": "J08zip99ZBx-"
      },
      "source": [
        "**Code parallélisé**"
      ]
    },
    {
      "cell_type": "code",
      "metadata": {
        "colab_type": "code",
        "id": "0r85ptEYZByB",
        "colab": {}
      },
      "source": [
        "%%cython --compile-args=-fopenmp --link-args=-fopenmp --force\n",
        "\n",
        "import cython\n",
        "from cython.parallel import parallel, prange\n",
        "\n",
        "@cython.boundscheck(False)\n",
        "@cython.wraparound(False)\n",
        "\n",
        "def p_mat_dot(double[:,:] a, double[:, :] b, double[:,:] res):\n",
        "    cdef int n, p, q\n",
        "    n = a.shape[0]\n",
        "    p = a.shape[1]\n",
        "    q = b.shape[1]\n",
        "\n",
        "    cdef int i, j, k \n",
        "    # parallélisation\n",
        "    with cython.nogil, parallel():\n",
        "        for i in prange(n):\n",
        "            for j in prange(q):\n",
        "                res[i,j] = 0\n",
        "                for k in prange(p):\n",
        "                    res[i,j] += a[i,k] * b[k,j]\n",
        "    \n",
        "    return res"
      ],
      "execution_count": 0,
      "outputs": []
    },
    {
      "cell_type": "markdown",
      "metadata": {
        "colab_type": "text",
        "id": "wAAACpeWZByY"
      },
      "source": [
        "**Test de vitesse**"
      ]
    },
    {
      "cell_type": "code",
      "metadata": {
        "colab_type": "code",
        "id": "27KF3XlJZByb",
        "colab": {}
      },
      "source": [
        "u = np.random.random((10,20))\n",
        "v = np.random.random((20,5))\n",
        "res = np.zeros((u.shape[0], v.shape[1]))"
      ],
      "execution_count": 0,
      "outputs": []
    },
    {
      "cell_type": "code",
      "metadata": {
        "colab_type": "code",
        "id": "7qz7tZUAZByl",
        "outputId": "8d623334-f93e-4a45-fcf0-7b4bd1d3632c",
        "colab": {
          "base_uri": "https://localhost:8080/",
          "height": 35
        }
      },
      "source": [
        "%timeit s_mat_dot(u, v)"
      ],
      "execution_count": 0,
      "outputs": [
        {
          "output_type": "stream",
          "text": [
            "2.71 ms ± 661 µs per loop (mean ± std. dev. of 7 runs, 100 loops each)\n"
          ],
          "name": "stdout"
        }
      ]
    },
    {
      "cell_type": "code",
      "metadata": {
        "colab_type": "code",
        "id": "GQNrzXX9ZBys",
        "outputId": "8af29662-932f-4680-a8bc-01aa43c645d1",
        "colab": {
          "base_uri": "https://localhost:8080/",
          "height": 52
        }
      },
      "source": [
        "%timeit p_mat_dot(u, v, np.zeros((u.shape[0], v.shape[1])))"
      ],
      "execution_count": 0,
      "outputs": [
        {
          "output_type": "stream",
          "text": [
            "16.2 µs ± 4.89 µs per loop (mean ± std. dev. of 7 runs, 100000 loops each)\n"
          ],
          "name": "stdout"
        }
      ]
    },
    {
      "cell_type": "code",
      "metadata": {
        "colab_type": "code",
        "id": "LjHZrIb4ZBzM",
        "outputId": "3619d4fc-dae1-4d61-af83-f0e15ef756cf",
        "colab": {
          "base_uri": "https://localhost:8080/",
          "height": 52
        }
      },
      "source": [
        "%timeit np.dot(u, v)"
      ],
      "execution_count": 0,
      "outputs": [
        {
          "output_type": "stream",
          "text": [
            "7.36 µs ± 833 ns per loop (mean ± std. dev. of 7 runs, 100000 loops each)\n"
          ],
          "name": "stdout"
        }
      ]
    },
    {
      "cell_type": "markdown",
      "metadata": {
        "colab_type": "text",
        "id": "WE4LxYrGsKh9"
      },
      "source": [
        "**Mesure et Graphique**"
      ]
    },
    {
      "cell_type": "code",
      "metadata": {
        "colab_type": "code",
        "id": "JlcyOUv_eBGS",
        "outputId": "9b76638d-6837-446d-af2d-ab8189f48eb4",
        "colab": {
          "base_uri": "https://localhost:8080/",
          "height": 1000
        }
      },
      "source": [
        "time_f=np.zeros(3)\n",
        "nmax=50\n",
        "df=pd.DataFrame(index=range(1,nmax),columns=[\"Résultats séquentiel\", \"Résultats parallèle\", \"Résultats numpy\"])\n",
        "\n",
        "for n in range(1,nmax):\n",
        "    va = np.random.random((10,n))\n",
        "    vb = np.random.random((n,5))\n",
        "    res = np.zeros((va.shape[0], vb.shape[1]))\n",
        "\n",
        "    time_f[0]=time.time()\n",
        "    s_mat_dot(va, vb)\n",
        "    time_f[0]=time.time()-time_f[0]\n",
        "\n",
        "    time_f[1]=time.time()\n",
        "    p_mat_dot(va, vb,res)\n",
        "    time_f[1]=time.time()-time_f[1]\n",
        "\n",
        "    time_f[2]=time.time()\n",
        "    np.dot(va, vb)\n",
        "    time_f[2]=time.time()-time_f[2]\n",
        "\n",
        "    df.iloc[n-1,0]=time_f[0]\n",
        "    df.iloc[n-1,1]=time_f[1]\n",
        "    df.iloc[n-1,2]=time_f[2]\n",
        "\n",
        "print(df)\n",
        "plt.figure(figsize=(8,6), dpi=80)\n",
        "plt.plot(df)\n",
        "plt.legend(['Sequentiel', 'Parallel', 'Numpy'])\n",
        "plt.xlabel(\"N\")\n",
        "plt.ylabel(\"Temps d'exécution\")\n",
        "plt.title(\"Sequential / Parallel / numpy dot\")"
      ],
      "execution_count": 5,
      "outputs": [
        {
          "output_type": "stream",
          "text": [
            "   Résultats séquentiel Résultats parallèle Résultats numpy\n",
            "1           8.32081e-05         0.000143528      0.00401759\n",
            "2            0.00020647         3.29018e-05     2.09808e-05\n",
            "3           0.000221014         2.21729e-05     1.35899e-05\n",
            "4            0.00024724         1.78814e-05     1.12057e-05\n",
            "5           0.000296354         1.71661e-05     1.00136e-05\n",
            "6           0.000363827          1.4782e-05     9.53674e-06\n",
            "7            0.00046587         2.45571e-05     1.71661e-05\n",
            "8           0.000466585         1.74046e-05     1.19209e-05\n",
            "9           0.000497341         1.66893e-05     1.00136e-05\n",
            "10          0.000570774         1.71661e-05     9.53674e-06\n",
            "11          0.000620127         1.74046e-05     9.77516e-06\n",
            "12           0.00067997         1.64509e-05     9.77516e-06\n",
            "13           0.00073123         1.88351e-05     1.26362e-05\n",
            "14          0.000776052         1.69277e-05     1.14441e-05\n",
            "15          0.000798941         1.78814e-05     1.09673e-05\n",
            "16          0.000847816         1.74046e-05     1.09673e-05\n",
            "17          0.000894308         1.69277e-05      1.0252e-05\n",
            "18          0.000966549         2.16961e-05     1.40667e-05\n",
            "19           0.00102806         2.16961e-05     1.40667e-05\n",
            "20           0.00107765         1.88351e-05     1.16825e-05\n",
            "21           0.00121737         2.86102e-05     1.45435e-05\n",
            "22           0.00118279         2.57492e-05     1.19209e-05\n",
            "23           0.00141549         2.74181e-05     1.95503e-05\n",
            "24           0.00130677         2.21729e-05     1.35899e-05\n",
            "25           0.00148439         2.86102e-05     1.90735e-05\n",
            "26           0.00137568         2.67029e-05     1.35899e-05\n",
            "27           0.00145435         2.07424e-05      1.4782e-05\n",
            "28           0.00155592         2.59876e-05      1.7643e-05\n",
            "29           0.00148678         2.69413e-05     1.28746e-05\n",
            "30           0.00158572         2.26498e-05      2.7895e-05\n",
            "31            0.0017128         2.83718e-05     1.81198e-05\n",
            "32            0.0018177         2.55108e-05     1.71661e-05\n",
            "33           0.00204062         2.69413e-05     1.88351e-05\n",
            "34           0.00178432          2.0504e-05      1.3113e-05\n",
            "35           0.00186682         2.24113e-05      1.3113e-05\n",
            "36           0.00198507         2.93255e-05     2.14577e-05\n",
            "37           0.00198603         2.59876e-05     1.81198e-05\n",
            "38           0.00197387         2.00272e-05     1.38283e-05\n",
            "39            0.0020647         2.74181e-05     1.69277e-05\n",
            "40           0.00218153         3.67165e-05      2.0504e-05\n",
            "41           0.00217438         2.59876e-05     1.62125e-05\n",
            "42           0.00219965          2.3365e-05     1.40667e-05\n",
            "43           0.00238204         3.31402e-05     2.14577e-05\n",
            "44           0.00247025         2.83718e-05     1.90735e-05\n",
            "45           0.00238371         2.26498e-05     1.21593e-05\n",
            "46           0.00337124         2.88486e-05     1.81198e-05\n",
            "47            0.0031507         2.64645e-05     1.78814e-05\n",
            "48           0.00449204         3.69549e-05     2.40803e-05\n",
            "49           0.00271082         3.60012e-05     2.16961e-05\n"
          ],
          "name": "stdout"
        },
        {
          "output_type": "execute_result",
          "data": {
            "text/plain": [
              "Text(0.5, 1.0, 'Sequential / Parallel / numpy dot')"
            ]
          },
          "metadata": {
            "tags": []
          },
          "execution_count": 5
        },
        {
          "output_type": "display_data",
          "data": {
            "image/png": "[encoded data removed]",
            "text/plain": [
              "<Figure size 640x480 with 1 Axes>"
            ]
          },
          "metadata": {
            "tags": []
          }
        }
      ]
    },
    {
      "cell_type": "markdown",
      "metadata": {
        "colab_type": "text",
        "id": "O_gowaQOsmxc"
      },
      "source": [
        "### Fonction Diag"
      ]
    },
    {
      "cell_type": "markdown",
      "metadata": {
        "colab_type": "text",
        "id": "vJX-ZBhYZBzY"
      },
      "source": [
        "**`mat_diag(vec)`** : Construit la matrice diagonale dont les valeurs sur la diagonales correspondent au vecteur `vec`."
      ]
    },
    {
      "cell_type": "markdown",
      "metadata": {
        "colab_type": "text",
        "id": "lvzKsEfnZBzb"
      },
      "source": [
        "**Code séquentiel**"
      ]
    },
    {
      "cell_type": "code",
      "metadata": {
        "colab_type": "code",
        "id": "4inbagUVZBzd",
        "colab": {}
      },
      "source": [
        "def s_mat_diag(vec):\n",
        "    n = len(vec)\n",
        "    res = np.zeros((n,n))\n",
        "    \n",
        "    for i in range(n):\n",
        "        res[i,i] = vec[i]\n",
        "        \n",
        "    return res"
      ],
      "execution_count": 0,
      "outputs": []
    },
    {
      "cell_type": "markdown",
      "metadata": {
        "colab_type": "text",
        "id": "Z8ZH4o0BZBz0"
      },
      "source": [
        "**Code parallélisé**"
      ]
    },
    {
      "cell_type": "code",
      "metadata": {
        "colab_type": "code",
        "id": "wEZ5bJhCZBz4",
        "colab": {}
      },
      "source": [
        "%%cython --compile-args=-fopenmp --link-args=-fopenmp --force\n",
        "\n",
        "import cython\n",
        "from cython.parallel import parallel, prange\n",
        "\n",
        "@cython.boundscheck(False)\n",
        "@cython.wraparound(False)\n",
        "\n",
        "def p_mat_diag(double[:] vec, double[:,:] res):\n",
        "    cdef int n \n",
        "    n = len(vec)\n",
        "    \n",
        "    cdef int i\n",
        "    # parallélisation\n",
        "    with cython.nogil, parallel():\n",
        "        for i in prange(n):\n",
        "            res[i,i] = vec[i]\n",
        "    \n",
        "    return res"
      ],
      "execution_count": 0,
      "outputs": []
    },
    {
      "cell_type": "markdown",
      "metadata": {
        "colab_type": "text",
        "id": "OmYUOD8-ZB0I"
      },
      "source": [
        "**Test de vitesse**"
      ]
    },
    {
      "cell_type": "code",
      "metadata": {
        "colab_type": "code",
        "id": "jajBpHdjZB0L",
        "colab": {}
      },
      "source": [
        "n = 20\n",
        "a = np.random.random(n)\n",
        "res = np.zeros((n,n))"
      ],
      "execution_count": 0,
      "outputs": []
    },
    {
      "cell_type": "code",
      "metadata": {
        "colab_type": "code",
        "id": "p4aSiwhtZB0Y",
        "outputId": "b9182b0d-5f3d-4c10-c214-899df5a4dce0",
        "colab": {
          "base_uri": "https://localhost:8080/",
          "height": 52
        }
      },
      "source": [
        "%timeit s_mat_diag(a)"
      ],
      "execution_count": 0,
      "outputs": [
        {
          "output_type": "stream",
          "text": [
            "29.4 µs ± 10.8 µs per loop (mean ± std. dev. of 7 runs, 10000 loops each)\n"
          ],
          "name": "stdout"
        }
      ]
    },
    {
      "cell_type": "code",
      "metadata": {
        "colab_type": "code",
        "id": "hcJ0RQcjZB0m",
        "outputId": "da93fb69-7283-4eaf-8bd1-ecbc6a521aa4",
        "colab": {
          "base_uri": "https://localhost:8080/",
          "height": 52
        }
      },
      "source": [
        "%timeit p_mat_diag(a,res)"
      ],
      "execution_count": 0,
      "outputs": [
        {
          "output_type": "stream",
          "text": [
            "7.66 µs ± 1.64 µs per loop (mean ± std. dev. of 7 runs, 100000 loops each)\n"
          ],
          "name": "stdout"
        }
      ]
    },
    {
      "cell_type": "code",
      "metadata": {
        "colab_type": "code",
        "id": "nvb9zpGYZB01",
        "outputId": "3a7baa30-c2fa-4b13-edc2-894e04531909",
        "colab": {
          "base_uri": "https://localhost:8080/",
          "height": 52
        }
      },
      "source": [
        "%timeit np.diag(a)"
      ],
      "execution_count": 0,
      "outputs": [
        {
          "output_type": "stream",
          "text": [
            "11.7 µs ± 2.12 µs per loop (mean ± std. dev. of 7 runs, 100000 loops each)\n"
          ],
          "name": "stdout"
        }
      ]
    },
    {
      "cell_type": "markdown",
      "metadata": {
        "colab_type": "text",
        "id": "sQuAju0hsV-y"
      },
      "source": [
        "**Mesure et Graphique**"
      ]
    },
    {
      "cell_type": "code",
      "metadata": {
        "colab_type": "code",
        "id": "Lq2q8lu9s4Xc",
        "outputId": "f4a1fc10-3635-4fa6-c997-b27352cebddd",
        "colab": {
          "base_uri": "https://localhost:8080/",
          "height": 711
        }
      },
      "source": [
        "nmax=100\n",
        "time_f=np.zeros(3)\n",
        "df=pd.DataFrame(index=range(1,nmax),columns=[\"Résultats séquentiel\", \"Résultats parallèle\", \"Résultats numpy\"])\n",
        "\n",
        "for n in range(1,nmax):\n",
        "    va = np.random.random(n)\n",
        "    res = np.zeros((n, n))\n",
        "\n",
        "    time_f[0]=time.time()\n",
        "    s_mat_diag(va)\n",
        "    time_f[0]=time.time()-time_f[0]\n",
        "\n",
        "    time_f[1]=time.time()\n",
        "    p_mat_diag(va,res)\n",
        "    time_f[1]=time.time()-time_f[1]\n",
        "\n",
        "    time_f[2]=time.time()\n",
        "    np.diag(va)\n",
        "    time_f[2]=time.time()-time_f[2]\n",
        "\n",
        "    df.iloc[n-1,0]=time_f[0]\n",
        "    df.iloc[n-1,1]=time_f[1]\n",
        "    df.iloc[n-1,2]=time_f[2]\n",
        "\n",
        "print(df)\n",
        "plt.figure(figsize=(8,6), dpi=80)\n",
        "plt.plot(df)\n",
        "plt.legend(['Sequentiel', 'Parallel', 'Numpy'])\n",
        "plt.xlabel(\"N\")\n",
        "plt.ylabel(\"Temps d'exécution\")\n",
        "plt.title(\"Sequential / Parallel / numpy diag\")"
      ],
      "execution_count": 8,
      "outputs": [
        {
          "output_type": "stream",
          "text": [
            "   Résultats séquentiel Résultats parallèle Résultats numpy\n",
            "1           9.29832e-06         0.000213146     2.74181e-05\n",
            "2           6.91414e-06          1.7643e-05     1.19209e-05\n",
            "3           6.67572e-06         1.45435e-05     1.04904e-05\n",
            "4           1.28746e-05         1.52588e-05     1.35899e-05\n",
            "5           9.05991e-06          0.00118828     2.19345e-05\n",
            "..                  ...                 ...             ...\n",
            "95          3.69549e-05         1.40667e-05     1.35899e-05\n",
            "96          3.62396e-05         1.35899e-05     1.38283e-05\n",
            "97          6.84261e-05          1.3113e-05     1.38283e-05\n",
            "98          0.000163317         2.88486e-05     3.29018e-05\n",
            "99          4.36306e-05         1.33514e-05     1.43051e-05\n",
            "\n",
            "[99 rows x 3 columns]\n"
          ],
          "name": "stdout"
        },
        {
          "output_type": "execute_result",
          "data": {
            "text/plain": [
              "Text(0.5, 1.0, 'Sequential / Parallel / numpy diag')"
            ]
          },
          "metadata": {
            "tags": []
          },
          "execution_count": 8
        },
        {
          "output_type": "display_data",
          "data": {
            "image/png": "[encoded data removed]",
            "text/plain": [
              "<Figure size 640x480 with 1 Axes>"
            ]
          },
          "metadata": {
            "tags": []
          }
        }
      ]
    },
    {
      "cell_type": "markdown",
      "metadata": {
        "colab_type": "text",
        "id": "h6FVY32xsmyJ"
      },
      "source": [
        "### Fonction Eye"
      ]
    },
    {
      "cell_type": "markdown",
      "metadata": {
        "colab_type": "text",
        "id": "qDItkxMbZB1A"
      },
      "source": [
        "**`mat_eye(n)`** : Crée la matrice identité de dimensions `n*n`."
      ]
    },
    {
      "cell_type": "markdown",
      "metadata": {
        "colab_type": "text",
        "id": "g4RkFjl8ZB1C"
      },
      "source": [
        "**Code séquentiel**"
      ]
    },
    {
      "cell_type": "code",
      "metadata": {
        "colab_type": "code",
        "id": "mvVI8JryZB1K",
        "colab": {}
      },
      "source": [
        "def s_mat_eye(n):\n",
        "    \n",
        "    res = np.zeros((n,n))\n",
        "    \n",
        "    for i in range(n):\n",
        "        for j in range(n):\n",
        "            if i==j:\n",
        "                res[i,j]=1\n",
        "    \n",
        "    return res"
      ],
      "execution_count": 0,
      "outputs": []
    },
    {
      "cell_type": "markdown",
      "metadata": {
        "colab_type": "text",
        "id": "H7KHiDrCZB1T"
      },
      "source": [
        "**Code parallélisé**"
      ]
    },
    {
      "cell_type": "code",
      "metadata": {
        "colab_type": "code",
        "id": "MPGzY6n4ZB1o",
        "colab": {}
      },
      "source": [
        "%%cython --compile-args=-fopenmp --link-args=-fopenmp --force\n",
        "\n",
        "import cython\n",
        "from cython.parallel import parallel, prange\n",
        "\n",
        "@cython.boundscheck(False)\n",
        "@cython.wraparound(False)\n",
        "\n",
        "def p_mat_eye(int n, double[:,:] res):\n",
        "    cdef int i, j \n",
        "    # parallélisation\n",
        "    with cython.nogil, parallel():\n",
        "        for i in prange(n):\n",
        "            for j in prange(n):\n",
        "                if i==j:\n",
        "                    res[i,j]=1\n",
        "    \n",
        "    return res"
      ],
      "execution_count": 0,
      "outputs": []
    },
    {
      "cell_type": "markdown",
      "metadata": {
        "colab_type": "text",
        "id": "S4cr1hw8ZB13"
      },
      "source": [
        "**Test de vitesse**"
      ]
    },
    {
      "cell_type": "code",
      "metadata": {
        "colab_type": "code",
        "id": "9-jAsfO2ZB16",
        "colab": {}
      },
      "source": [
        "n=6\n",
        "res = np.zeros((n,n))"
      ],
      "execution_count": 0,
      "outputs": []
    },
    {
      "cell_type": "code",
      "metadata": {
        "colab_type": "code",
        "id": "DQK5KO_jZB2C",
        "outputId": "da3c6399-b1f1-4494-c7e8-5a74cb6558d7",
        "colab": {
          "base_uri": "https://localhost:8080/",
          "height": 52
        }
      },
      "source": [
        "%timeit s_mat_eye(n)"
      ],
      "execution_count": 0,
      "outputs": [
        {
          "output_type": "stream",
          "text": [
            "13.5 µs ± 2.06 µs per loop (mean ± std. dev. of 7 runs, 100000 loops each)\n"
          ],
          "name": "stdout"
        }
      ]
    },
    {
      "cell_type": "code",
      "metadata": {
        "colab_type": "code",
        "id": "RvDPuuHgZB2V",
        "outputId": "0c09ddee-850c-450d-fe9f-9482aee8e31f",
        "colab": {
          "base_uri": "https://localhost:8080/",
          "height": 52
        }
      },
      "source": [
        "%timeit p_mat_eye(n, res) "
      ],
      "execution_count": 0,
      "outputs": [
        {
          "output_type": "stream",
          "text": [
            "4.22 µs ± 769 ns per loop (mean ± std. dev. of 7 runs, 100000 loops each)\n"
          ],
          "name": "stdout"
        }
      ]
    },
    {
      "cell_type": "code",
      "metadata": {
        "colab_type": "code",
        "id": "rNoSuykDZB2u",
        "outputId": "dc14b5d3-ba13-4ae1-b48b-af119167bba6",
        "colab": {
          "base_uri": "https://localhost:8080/",
          "height": 52
        }
      },
      "source": [
        "%timeit np.eye(n)"
      ],
      "execution_count": 0,
      "outputs": [
        {
          "output_type": "stream",
          "text": [
            "9.14 µs ± 1.14 µs per loop (mean ± std. dev. of 7 runs, 100000 loops each)\n"
          ],
          "name": "stdout"
        }
      ]
    },
    {
      "cell_type": "markdown",
      "metadata": {
        "colab_type": "text",
        "id": "QNsz1Qubt4Sc"
      },
      "source": [
        "**Mesure et Graphique**"
      ]
    },
    {
      "cell_type": "code",
      "metadata": {
        "colab_type": "code",
        "id": "Kn1dfIaHuA_M",
        "outputId": "04bbde2e-abc7-4fdd-f223-120593d655fe",
        "colab": {
          "base_uri": "https://localhost:8080/",
          "height": 711
        }
      },
      "source": [
        "nmax=100\n",
        "time_f=np.zeros(3)\n",
        "df=pd.DataFrame(index=range(1,nmax),columns=[\"Résultats séquentiel\", \"Résultats parallèle\", \"Résultats numpy\"])\n",
        "\n",
        "for n in range(1,nmax):\n",
        "  \n",
        "    res = np.zeros((n,n))\n",
        "\n",
        "    time_f[0]=time.time()\n",
        "    s_mat_eye(n)\n",
        "    time_f[0]=time.time()-time_f[0]\n",
        "\n",
        "    time_f[1]=time.time()\n",
        "    p_mat_eye(n,res)\n",
        "    time_f[1]=time.time()-time_f[1]\n",
        "\n",
        "    time_f[2]=time.time()\n",
        "    np.eye(n)\n",
        "    time_f[2]=time.time()-time_f[2]\n",
        "\n",
        "    df.iloc[n-1,0]=time_f[0]\n",
        "    df.iloc[n-1,1]=time_f[1]\n",
        "    df.iloc[n-1,2]=time_f[2]\n",
        "\n",
        "print(df)\n",
        "plt.figure(figsize=(8,6), dpi=80)\n",
        "plt.plot(df)\n",
        "plt.legend(['Sequentiel', 'Parallel', 'Numpy'])\n",
        "plt.xlabel(\"N\")\n",
        "plt.ylabel(\"Temps d'exécution\")\n",
        "plt.title(\"Sequential / Parallel / numpy eye\")"
      ],
      "execution_count": 11,
      "outputs": [
        {
          "output_type": "stream",
          "text": [
            "   Résultats séquentiel Résultats parallèle Résultats numpy\n",
            "1           5.72205e-06         0.000854969     4.00543e-05\n",
            "2           6.67572e-06         2.28882e-05     1.12057e-05\n",
            "3           7.62939e-06         1.26362e-05     8.82149e-06\n",
            "4           8.10623e-06          1.3113e-05     8.82149e-06\n",
            "5           1.04904e-05          1.3113e-05      1.0252e-05\n",
            "..                  ...                 ...             ...\n",
            "95          0.000579119         3.00407e-05     2.88486e-05\n",
            "96          0.000378847          5.8651e-05     1.45435e-05\n",
            "97          0.000417948         2.14577e-05     1.45435e-05\n",
            "98          0.000412703         2.36034e-05     1.50204e-05\n",
            "99          0.000399113         2.21729e-05     1.45435e-05\n",
            "\n",
            "[99 rows x 3 columns]\n"
          ],
          "name": "stdout"
        },
        {
          "output_type": "execute_result",
          "data": {
            "text/plain": [
              "Text(0.5, 1.0, 'Sequential / Parallel / numpy eye')"
            ]
          },
          "metadata": {
            "tags": []
          },
          "execution_count": 11
        },
        {
          "output_type": "display_data",
          "data": {
            "image/png": "[encoded data removed]",
            "text/plain": [
              "<Figure size 640x480 with 1 Axes>"
            ]
          },
          "metadata": {
            "tags": []
          }
        }
      ]
    },
    {
      "cell_type": "markdown",
      "metadata": {
        "colab_type": "text",
        "id": "JM0-Jl17smyx"
      },
      "source": [
        "### Fonction Transpose"
      ]
    },
    {
      "cell_type": "markdown",
      "metadata": {
        "colab_type": "text",
        "id": "7iRFizHLZB3B"
      },
      "source": [
        "**`mat_transpose(a)`** : Transpose la matrice `a`."
      ]
    },
    {
      "cell_type": "markdown",
      "metadata": {
        "colab_type": "text",
        "id": "LywBDtFyZB3N"
      },
      "source": [
        "**Code séquentiel**"
      ]
    },
    {
      "cell_type": "code",
      "metadata": {
        "colab_type": "code",
        "id": "NrNcoS8EZB3U",
        "colab": {}
      },
      "source": [
        "def s_mat_transpose(a):\n",
        "    n, p = a.shape\n",
        "    res = np.zeros((p,n))\n",
        "    \n",
        "    for i in range(p):\n",
        "        for j in range(n):\n",
        "            res[i,j] = a[j,i]\n",
        "    return res"
      ],
      "execution_count": 0,
      "outputs": []
    },
    {
      "cell_type": "markdown",
      "metadata": {
        "colab_type": "text",
        "id": "BSz4RNzEZB4C"
      },
      "source": [
        "**Code parallélisé**"
      ]
    },
    {
      "cell_type": "code",
      "metadata": {
        "colab_type": "code",
        "id": "7X1zfMM0ZB4S",
        "colab": {}
      },
      "source": [
        "%%cython --compile-args=-fopenmp --link-args=-fopenmp --force\n",
        "\n",
        "import cython\n",
        "from cython.parallel import parallel, prange\n",
        "\n",
        "@cython.boundscheck(False)\n",
        "@cython.wraparound(False)\n",
        "\n",
        "def p_mat_transpose(double[:,:] a, double[:,:] res):\n",
        "    cdef int n, p\n",
        "    n = a.shape[0]\n",
        "    p = a.shape[1]\n",
        "\n",
        "    cdef int i, j \n",
        "    # parallélisation\n",
        "    with cython.nogil, parallel():\n",
        "        for i in prange(p):\n",
        "            for j in prange(n):\n",
        "                res[i,j] = a[j,i]\n",
        "    \n",
        "    return res"
      ],
      "execution_count": 0,
      "outputs": []
    },
    {
      "cell_type": "markdown",
      "metadata": {
        "colab_type": "text",
        "id": "Riclo_cLZB4q"
      },
      "source": [
        "**Test de vitesse**"
      ]
    },
    {
      "cell_type": "code",
      "metadata": {
        "colab_type": "code",
        "id": "nQpdUt1PZB4t",
        "colab": {}
      },
      "source": [
        "u = np.random.random((10,20))\n",
        "res = np.zeros((u.shape[1], u.shape[0]))"
      ],
      "execution_count": 0,
      "outputs": []
    },
    {
      "cell_type": "code",
      "metadata": {
        "colab_type": "code",
        "id": "iW9vcTDFZB5S",
        "outputId": "ba00fb4e-4333-4947-c730-435e3e10f8bd",
        "colab": {
          "base_uri": "https://localhost:8080/",
          "height": 52
        }
      },
      "source": [
        "%timeit s_mat_transpose(u)"
      ],
      "execution_count": 0,
      "outputs": [
        {
          "output_type": "stream",
          "text": [
            "305 µs ± 44 µs per loop (mean ± std. dev. of 7 runs, 1000 loops each)\n"
          ],
          "name": "stdout"
        }
      ]
    },
    {
      "cell_type": "code",
      "metadata": {
        "colab_type": "code",
        "id": "JIcD4aY6ZB5o",
        "outputId": "9fab23af-ed56-4e18-b6a1-93dd07c821c6",
        "colab": {
          "base_uri": "https://localhost:8080/",
          "height": 52
        }
      },
      "source": [
        "%timeit p_mat_transpose(u, res) "
      ],
      "execution_count": 0,
      "outputs": [
        {
          "output_type": "stream",
          "text": [
            "6.9 µs ± 1.93 µs per loop (mean ± std. dev. of 7 runs, 100000 loops each)\n"
          ],
          "name": "stdout"
        }
      ]
    },
    {
      "cell_type": "code",
      "metadata": {
        "colab_type": "code",
        "id": "kJh7hYkvZB52",
        "outputId": "8e644c0d-77cc-4fe5-fc36-4b9d24613343",
        "colab": {
          "base_uri": "https://localhost:8080/",
          "height": 52
        }
      },
      "source": [
        "%timeit np.transpose(u)"
      ],
      "execution_count": 0,
      "outputs": [
        {
          "output_type": "stream",
          "text": [
            "2.11 µs ± 530 ns per loop (mean ± std. dev. of 7 runs, 1000000 loops each)\n"
          ],
          "name": "stdout"
        }
      ]
    },
    {
      "cell_type": "markdown",
      "metadata": {
        "colab_type": "text",
        "id": "MCntnCH6vTaI"
      },
      "source": [
        "**Mesure et Graphique**"
      ]
    },
    {
      "cell_type": "code",
      "metadata": {
        "colab_type": "code",
        "id": "tQQ6mjVTvWaO",
        "outputId": "9fe7d974-216b-45c7-ba18-c1e2d340e23e",
        "colab": {
          "base_uri": "https://localhost:8080/",
          "height": 711
        }
      },
      "source": [
        "nmax=100\n",
        "time_f=np.zeros(3)\n",
        "df=pd.DataFrame(index=range(1,nmax),columns=[\"Résultats séquentiel\", \"Résultats parallèle\", \"Résultats numpy\"])\n",
        "\n",
        "for n in range(1,nmax):\n",
        "  \n",
        "    u = np.random.random((n,n))\n",
        "    res = np.zeros((n,n))\n",
        "\n",
        "    time_f[0]=time.time()\n",
        "    s_mat_transpose(u)\n",
        "    time_f[0]=time.time()-time_f[0]\n",
        "\n",
        "    time_f[1]=time.time()\n",
        "    p_mat_transpose(u,res)\n",
        "    time_f[1]=time.time()-time_f[1]\n",
        "\n",
        "    time_f[2]=time.time()\n",
        "    np.transpose(u)\n",
        "    time_f[2]=time.time()-time_f[2]\n",
        "\n",
        "    df.iloc[n-1,0]=time_f[0]\n",
        "    df.iloc[n-1,1]=time_f[1]\n",
        "    df.iloc[n-1,2]=time_f[2]\n",
        "\n",
        "print(df)\n",
        "plt.figure(figsize=(8,6), dpi=80)\n",
        "plt.plot(df)\n",
        "plt.legend(['Sequentiel', 'Parallel', 'Numpy'])\n",
        "plt.xlabel(\"N\")\n",
        "plt.ylabel(\"Temps d'exécution\")\n",
        "plt.title(\"Sequential / Parallel / numpy transpose\")"
      ],
      "execution_count": 14,
      "outputs": [
        {
          "output_type": "stream",
          "text": [
            "   Résultats séquentiel Résultats parallèle Résultats numpy\n",
            "1           9.77516e-06          0.00085187     1.69277e-05\n",
            "2           8.82149e-06          0.00037241     1.04904e-05\n",
            "3           1.04904e-05         1.57356e-05     6.91414e-06\n",
            "4           1.38283e-05         1.40667e-05     5.96046e-06\n",
            "5           1.66893e-05         1.43051e-05     5.96046e-06\n",
            "..                  ...                 ...             ...\n",
            "95           0.00330544         5.00679e-05      1.5974e-05\n",
            "96           0.00312757         3.09944e-05     1.07288e-05\n",
            "97           0.00325942         3.09944e-05     7.62939e-05\n",
            "98            0.0036757          4.3869e-05     1.71661e-05\n",
            "99           0.00338221         3.19481e-05     1.07288e-05\n",
            "\n",
            "[99 rows x 3 columns]\n"
          ],
          "name": "stdout"
        },
        {
          "output_type": "execute_result",
          "data": {
            "text/plain": [
              "Text(0.5, 1.0, 'Sequential / Parallel / numpy transpose')"
            ]
          },
          "metadata": {
            "tags": []
          },
          "execution_count": 14
        },
        {
          "output_type": "display_data",
          "data": {
            "image/png": "[encoded data removed]",
            "text/plain": [
              "<Figure size 640x480 with 1 Axes>"
            ]
          },
          "metadata": {
            "tags": []
          }
        }
      ]
    },
    {
      "cell_type": "markdown",
      "metadata": {
        "colab_type": "text",
        "id": "ZfUy0NkfsmzY"
      },
      "source": [
        "### Fonction Sum"
      ]
    },
    {
      "cell_type": "markdown",
      "metadata": {
        "colab_type": "text",
        "id": "gQWowdSAZB6G"
      },
      "source": [
        "**`mat_sum(a)`** : Somme les valeurs de la matrice `a`."
      ]
    },
    {
      "cell_type": "markdown",
      "metadata": {
        "colab_type": "text",
        "id": "dlXDQ-7NZB6J"
      },
      "source": [
        "**Code séquentiel**"
      ]
    },
    {
      "cell_type": "code",
      "metadata": {
        "colab_type": "code",
        "id": "g0IEJVx8ZB6M",
        "colab": {}
      },
      "source": [
        "def s_mat_sum(a, axis):\n",
        "    n, p = a.shape   \n",
        "    if axis == 0:\n",
        "        res = np.zeros(p)\n",
        "        for i in range(p):\n",
        "            for j in range(n):\n",
        "                res[i] += a[j,i]\n",
        "    else:\n",
        "        res = np.zeros(n)\n",
        "        for i in range(n):\n",
        "            for j in range (p):\n",
        "                res[i] += a[i,j]               \n",
        "        \n",
        "    return res"
      ],
      "execution_count": 0,
      "outputs": []
    },
    {
      "cell_type": "markdown",
      "metadata": {
        "colab_type": "text",
        "id": "5vE0lOhMZB6b"
      },
      "source": [
        "**Code parallélisé**"
      ]
    },
    {
      "cell_type": "code",
      "metadata": {
        "colab_type": "code",
        "id": "1mD5cQ5YZB6i",
        "colab": {}
      },
      "source": [
        "%%cython --compile-args=-fopenmp --link-args=-fopenmp --force\n",
        "\n",
        "import cython\n",
        "from cython.parallel import parallel, prange\n",
        "\n",
        "@cython.boundscheck(False)\n",
        "@cython.wraparound(False)\n",
        "\n",
        "def p_mat_sum(double[:,:] a, int axis, double[:] res):\n",
        "    cdef int n, p\n",
        "    n = a.shape[0] \n",
        "    p = a.shape[1]\n",
        "    \n",
        "    cdef int i, j\n",
        "    with cython.nogil, parallel():\n",
        "        if axis == 0:\n",
        "            for i in prange(p):\n",
        "                for j in prange(n):\n",
        "                    res[i] += a[j,i]\n",
        "        else:\n",
        "            for i in prange(n):\n",
        "                for j in prange (p):\n",
        "                    res[i] += a[i,j]         \n",
        "    return res"
      ],
      "execution_count": 0,
      "outputs": []
    },
    {
      "cell_type": "markdown",
      "metadata": {
        "colab_type": "text",
        "id": "jNFBM6WKZB6p"
      },
      "source": [
        "**Test de vitesse**"
      ]
    },
    {
      "cell_type": "code",
      "metadata": {
        "colab_type": "code",
        "id": "W9QKoPccZB6s",
        "colab": {}
      },
      "source": [
        "u = np.random.random((5,10))"
      ],
      "execution_count": 0,
      "outputs": []
    },
    {
      "cell_type": "code",
      "metadata": {
        "colab_type": "code",
        "id": "cX5h5jjYZB66",
        "outputId": "03c724ed-3c27-41ba-e700-e431cab2a161",
        "colab": {
          "base_uri": "https://localhost:8080/",
          "height": 35
        }
      },
      "source": [
        "%timeit s_mat_sum(u, 0)"
      ],
      "execution_count": 0,
      "outputs": [
        {
          "output_type": "stream",
          "text": [
            "89.8 µs ± 12.2 µs per loop (mean ± std. dev. of 7 runs, 10000 loops each)\n"
          ],
          "name": "stdout"
        }
      ]
    },
    {
      "cell_type": "code",
      "metadata": {
        "colab_type": "code",
        "id": "zMh--hyDZB7F",
        "outputId": "4fdb3c25-847e-432e-91f7-f8788efc0f23",
        "colab": {
          "base_uri": "https://localhost:8080/",
          "height": 52
        }
      },
      "source": [
        "%timeit s_mat_sum(u, 1)"
      ],
      "execution_count": 0,
      "outputs": [
        {
          "output_type": "stream",
          "text": [
            "89.2 µs ± 15.9 µs per loop (mean ± std. dev. of 7 runs, 10000 loops each)\n"
          ],
          "name": "stdout"
        }
      ]
    },
    {
      "cell_type": "code",
      "metadata": {
        "colab_type": "code",
        "id": "wIeMlNKvZB7L",
        "outputId": "56d258ee-c934-452e-c3ba-8816240f3bab",
        "colab": {
          "base_uri": "https://localhost:8080/",
          "height": 52
        }
      },
      "source": [
        "res = np.zeros(u.shape[1])\n",
        "%timeit p_mat_sum(u, 1, res) "
      ],
      "execution_count": 0,
      "outputs": [
        {
          "output_type": "stream",
          "text": [
            "8.26 µs ± 2.61 µs per loop (mean ± std. dev. of 7 runs, 100000 loops each)\n"
          ],
          "name": "stdout"
        }
      ]
    },
    {
      "cell_type": "code",
      "metadata": {
        "colab_type": "code",
        "id": "SxZ8MopgZB7S",
        "outputId": "f72dc797-6c4a-4d19-fd28-677d909ce2fd",
        "colab": {
          "base_uri": "https://localhost:8080/",
          "height": 52
        }
      },
      "source": [
        "res = np.zeros(u.shape[0])\n",
        "%timeit np.sum(u)"
      ],
      "execution_count": 0,
      "outputs": [
        {
          "output_type": "stream",
          "text": [
            "13.7 µs ± 3.76 µs per loop (mean ± std. dev. of 7 runs, 100000 loops each)\n"
          ],
          "name": "stdout"
        }
      ]
    },
    {
      "cell_type": "code",
      "metadata": {
        "colab_type": "code",
        "id": "tvnnPrHdZB7f",
        "outputId": "17a6e00b-c903-457d-d271-1ee3405707b2",
        "colab": {
          "base_uri": "https://localhost:8080/",
          "height": 52
        }
      },
      "source": [
        "%timeit np.sum(u, 0)"
      ],
      "execution_count": 0,
      "outputs": [
        {
          "output_type": "stream",
          "text": [
            "12.1 µs ± 1.77 µs per loop (mean ± std. dev. of 7 runs, 100000 loops each)\n"
          ],
          "name": "stdout"
        }
      ]
    },
    {
      "cell_type": "code",
      "metadata": {
        "colab_type": "code",
        "id": "PbF_NVBFZB7w",
        "outputId": "e180232b-7dc3-4b82-8d60-4000408397b4",
        "colab": {
          "base_uri": "https://localhost:8080/",
          "height": 52
        }
      },
      "source": [
        "%timeit np.sum(u, 1)"
      ],
      "execution_count": 0,
      "outputs": [
        {
          "output_type": "stream",
          "text": [
            "9.64 µs ± 946 ns per loop (mean ± std. dev. of 7 runs, 100000 loops each)\n"
          ],
          "name": "stdout"
        }
      ]
    },
    {
      "cell_type": "markdown",
      "metadata": {
        "colab_type": "text",
        "id": "UkGQJKExv_ZE"
      },
      "source": [
        "**Mesure et Graphique**"
      ]
    },
    {
      "cell_type": "code",
      "metadata": {
        "colab_type": "code",
        "id": "l9wQ1HtvwCJN",
        "outputId": "7442c120-5dd4-4d68-fe1c-477f3b6bda33",
        "colab": {
          "base_uri": "https://localhost:8080/",
          "height": 711
        }
      },
      "source": [
        "nmax=100\n",
        "time_f=np.zeros(3)\n",
        "df=pd.DataFrame(index=range(1,nmax),columns=[\"Résultats séquentiel\", \"Résultats parallèle\", \"Résultats numpy\"])\n",
        "\n",
        "for n in range(1,nmax):\n",
        "  \n",
        "    u = np.random.random((n,n))\n",
        "    res = np.zeros(u.shape[1])\n",
        "\n",
        "    time_f[0]=time.time()\n",
        "    s_mat_sum(u,0)\n",
        "    time_f[0]=time.time()-time_f[0]\n",
        "\n",
        "    time_f[1]=time.time()\n",
        "    p_mat_sum(u,0,res)\n",
        "    time_f[1]=time.time()-time_f[1]\n",
        "\n",
        "    time_f[2]=time.time()\n",
        "    np.sum(u,0)\n",
        "    time_f[2]=time.time()-time_f[2]\n",
        "\n",
        "    df.iloc[n-1,0]=time_f[0]\n",
        "    df.iloc[n-1,1]=time_f[1]\n",
        "    df.iloc[n-1,2]=time_f[2]\n",
        "\n",
        "print(df)\n",
        "plt.figure(figsize=(8,6), dpi=80)\n",
        "plt.plot(df)\n",
        "plt.legend(['Sequentiel', 'Parallel', 'Numpy'])\n",
        "plt.xlabel(\"N\")\n",
        "plt.ylabel(\"Temps d'exécution\")\n",
        "plt.title(\"Sequential / Parallel / numpy somme\")"
      ],
      "execution_count": 17,
      "outputs": [
        {
          "output_type": "stream",
          "text": [
            "   Résultats séquentiel Résultats parallèle Résultats numpy\n",
            "1           1.71661e-05           0.0151703     8.29697e-05\n",
            "2           7.41482e-05          3.6478e-05     3.14713e-05\n",
            "3           1.52588e-05         1.69277e-05      2.0504e-05\n",
            "4            2.0504e-05          1.5974e-05     2.36034e-05\n",
            "5           2.45571e-05         1.38283e-05     1.93119e-05\n",
            "..                  ...                 ...             ...\n",
            "95           0.00701213         4.88758e-05     6.93798e-05\n",
            "96           0.00567436         4.74453e-05     6.62804e-05\n",
            "97           0.00607443         4.43459e-05     6.55651e-05\n",
            "98           0.00627971          6.1512e-05     7.05719e-05\n",
            "99           0.00641775         5.19753e-05     8.44002e-05\n",
            "\n",
            "[99 rows x 3 columns]\n"
          ],
          "name": "stdout"
        },
        {
          "output_type": "execute_result",
          "data": {
            "text/plain": [
              "Text(0.5, 1.0, 'Sequential / Parallel / numpy somme')"
            ]
          },
          "metadata": {
            "tags": []
          },
          "execution_count": 17
        },
        {
          "output_type": "display_data",
          "data": {
            "image/png": "[encoded data removed]",
            "text/plain": [
              "<Figure size 640x480 with 1 Axes>"
            ]
          },
          "metadata": {
            "tags": []
          }
        }
      ]
    },
    {
      "cell_type": "markdown",
      "metadata": {
        "colab_type": "text",
        "id": "jmeFgV8ism0L"
      },
      "source": [
        "### Fonction Inv"
      ]
    },
    {
      "cell_type": "markdown",
      "metadata": {
        "colab_type": "text",
        "id": "oLFmO49UZB74"
      },
      "source": [
        "**`mat_inv(a)`** : Inverse la matrice `a`."
      ]
    },
    {
      "cell_type": "markdown",
      "metadata": {
        "colab_type": "text",
        "id": "EH-am0zBZB79"
      },
      "source": [
        "**Code séquentiel**"
      ]
    },
    {
      "cell_type": "code",
      "metadata": {
        "colab_type": "code",
        "id": "jk94NSmEZB7_",
        "colab": {}
      },
      "source": [
        "def s_mat_LU(a):\n",
        "    n = a.shape[0]\n",
        "    L = np.zeros((n,n))\n",
        "    U = np.zeros((n,n))\n",
        "    \n",
        "    for j in range(n):\n",
        "        L[j,j] = 1\n",
        "        U[0,j] = a[0,j]\n",
        "        \n",
        "        for i in range(1,n):\n",
        "            if i>j:\n",
        "                for k in range(0,j):\n",
        "                    L[i,j] = L[i,j] + U[k,j] * L[i,k]\n",
        "                L[i,j] = (a[i,j] - L[i,j]) / U[j,j]\n",
        "            else:\n",
        "                for k in range(0,i):\n",
        "                    U[i,j] = U[i,j] + U[k,j] * L[i,k]\n",
        "                U[i,j] = a[i,j] - U[i,j]\n",
        "    return (L,U)"
      ],
      "execution_count": 0,
      "outputs": []
    },
    {
      "cell_type": "code",
      "metadata": {
        "colab_type": "code",
        "id": "Y9_kX-xQZB8D",
        "colab": {}
      },
      "source": [
        "def s_mat_inv(a):\n",
        "    n = a.shape[0]\n",
        "    x = np.zeros(n)\n",
        "    \n",
        "    d = np.zeros(n)\n",
        "    L, U = s_mat_LU(a)\n",
        "    inverse = np.zeros((n,n))\n",
        "    inv_L = np.zeros((n,n))\n",
        "    \n",
        "    # Get inv(L)\n",
        "    for k in range(n):\n",
        "        c = np.zeros(n)\n",
        "        c[k] = 1\n",
        "        \n",
        "        for i in range(n):\n",
        "            somme = 0\n",
        "            \n",
        "            for j in range(i): \n",
        "                somme += L[i,j] * d[j]\n",
        "\n",
        "            d[i] = (c[i] - somme) / L[i,i]\n",
        "        inv_L[:, k] = d\n",
        "    \n",
        "        # Get inv(a)\n",
        "        x [n-1] = d[n-1] / U[n-1, n-1] \n",
        "\n",
        "        for i in range(n-2, -1, -1):\n",
        "            somme = 0\n",
        "\n",
        "            for j in range(i+1, n):\n",
        "                somme += U[i,j] * x[j]\n",
        "            \n",
        "            x[i] = (d[i] - somme) / U[i,i]\n",
        "        \n",
        "        inverse[:,k] = x\n",
        "        \n",
        "    return inverse"
      ],
      "execution_count": 0,
      "outputs": []
    },
    {
      "cell_type": "markdown",
      "metadata": {
        "colab_type": "text",
        "id": "qcg1hOspZB8O"
      },
      "source": [
        "**Code parallélisé**"
      ]
    },
    {
      "cell_type": "code",
      "metadata": {
        "colab_type": "code",
        "id": "f5BA5HCSZB8T",
        "colab": {}
      },
      "source": [
        "%%cython --compile-args=-fopenmp --link-args=-fopenmp --force\n",
        "\n",
        "import cython\n",
        "from cython.parallel import parallel, prange\n",
        "\n",
        "@cython.boundscheck(False)\n",
        "@cython.wraparound(False)\n",
        "\n",
        "def p_mat_LU(double[:,:] a, double[:,:] L, double[:,:] U):\n",
        "    cdef int n\n",
        "    n = a.shape[0]\n",
        "\n",
        "    cdef int i, j, k \n",
        "    # parallélisation\n",
        "    with cython.nogil, parallel():\n",
        "        for j in prange(n):\n",
        "            L[j,j] = 1\n",
        "            U[0,j] = a[0,j]\n",
        "        \n",
        "            for i in prange(1,n):\n",
        "                if i>j:\n",
        "                    for k in prange(0,j):\n",
        "                        L[i,j] = L[i,j] + U[k,j] * L[i,k]\n",
        "                    L[i,j] = (a[i,j] - L[i,j]) / U[j,j]\n",
        "                else:\n",
        "                    for k in prange(0,i):\n",
        "                        U[i,j] = U[i,j] + U[k,j] * L[i,k]\n",
        "                    U[i,j] = a[i,j] - U[i,j]\n",
        "                    \n",
        "    return (L, U)     \n",
        "                    \n",
        "                    \n",
        "@cython.boundscheck(False)\n",
        "@cython.wraparound(False)\n",
        "\n",
        "def p_mat_inv(double[:,:] a, double[:,:] L, double[:,:] U, double[:] d, double[:] c, double[:] x, double[:,:] inverse, double[:,:] inv_L, double[:,:] res):\n",
        "    cdef int n,p\n",
        "    cdef double somme \n",
        "    \n",
        "    n = a.shape[0]\n",
        "    L, U = p_mat_LU(a, L, U)\n",
        "    \n",
        "    cdef int k, i, j\n",
        "    \n",
        "    # parallélisation\n",
        "    with cython.nogil, parallel():\n",
        "        for k in prange(n):\n",
        "            c[k] = 1\n",
        "            if k>0:\n",
        "                c[k-1] = 0\n",
        "    \n",
        "            for i in prange(n):\n",
        "                somme = 0\n",
        "            \n",
        "                for j in range(i):\n",
        "                    somme = somme + L[i,j] * d[j]\n",
        "                    \n",
        "                d[i] = (c[i] - somme) / L[i,i]\n",
        "                \n",
        "            inv_L[:, k] = d\n",
        "            \n",
        "             # Get inv(a)\n",
        "            x [n-1] = d[n-1] / U[n-1, n-1] \n",
        "\n",
        "            for i in prange(n-2, -1, -1):\n",
        "                somme = 0\n",
        "\n",
        "                for j in range(i+1, n):\n",
        "                    somme = somme + U[i,j] * x[j]\n",
        "            \n",
        "                x[i] = (d[i] - somme) / U[i,i]\n",
        "        \n",
        "            inverse[:,k] = x\n",
        "                  \n",
        "    return inverse"
      ],
      "execution_count": 0,
      "outputs": []
    },
    {
      "cell_type": "markdown",
      "metadata": {
        "colab_type": "text",
        "id": "Cd9ebW-FZB8d"
      },
      "source": [
        "**Test de vitesse**"
      ]
    },
    {
      "cell_type": "code",
      "metadata": {
        "colab_type": "code",
        "id": "AmQ9yWwIZB8e",
        "colab": {}
      },
      "source": [
        "n = 3\n",
        "u = np.array([[2,1,-1],[4,6,1],[-2,11,8]])\n",
        "L = np.zeros((n,n))\n",
        "U = np.zeros((n,n))\n",
        "d = np.zeros(n)\n",
        "c = np.zeros(n)\n",
        "x = np.zeros(n)\n",
        "inverse = np.zeros((n,n))\n",
        "inv_L = np.zeros((n,n))\n",
        "res = np.zeros((n,n))"
      ],
      "execution_count": 0,
      "outputs": []
    },
    {
      "cell_type": "code",
      "metadata": {
        "colab_type": "code",
        "id": "Jm_f2C6AZB8o",
        "outputId": "cc83b4cb-9051-4274-c778-7e3841848abe",
        "colab": {
          "base_uri": "https://localhost:8080/",
          "height": 52
        }
      },
      "source": [
        "%timeit s_mat_inv(u)"
      ],
      "execution_count": 0,
      "outputs": [
        {
          "output_type": "stream",
          "text": [
            "293 µs ± 72 µs per loop (mean ± std. dev. of 7 runs, 1000 loops each)\n"
          ],
          "name": "stdout"
        }
      ]
    },
    {
      "cell_type": "code",
      "metadata": {
        "colab_type": "code",
        "id": "QldYf3M6ZB8y",
        "outputId": "83ebbc37-e423-4ac9-8fbb-2c28e9d3d3b7",
        "colab": {
          "base_uri": "https://localhost:8080/",
          "height": 52
        }
      },
      "source": [
        "%timeit p_mat_inv(np.double(u), L, U, d, c, x, inverse, inv_L, res)"
      ],
      "execution_count": 0,
      "outputs": [
        {
          "output_type": "stream",
          "text": [
            "72.5 µs ± 4.92 µs per loop (mean ± std. dev. of 7 runs, 10000 loops each)\n"
          ],
          "name": "stdout"
        }
      ]
    },
    {
      "cell_type": "code",
      "metadata": {
        "colab_type": "code",
        "id": "EYuq2O1YZB86",
        "outputId": "734da00c-e189-4c2f-cf56-2a32842b774e",
        "colab": {
          "base_uri": "https://localhost:8080/",
          "height": 52
        }
      },
      "source": [
        "%timeit np.linalg.inv(u)"
      ],
      "execution_count": 0,
      "outputs": [
        {
          "output_type": "stream",
          "text": [
            "18.7 µs ± 1.41 µs per loop (mean ± std. dev. of 7 runs, 100000 loops each)\n"
          ],
          "name": "stdout"
        }
      ]
    },
    {
      "cell_type": "markdown",
      "metadata": {
        "colab_type": "text",
        "id": "VpbapdJ9w3hK"
      },
      "source": [
        "**Mesure et Graphique**"
      ]
    },
    {
      "cell_type": "code",
      "metadata": {
        "colab_type": "code",
        "id": "X3eIXNLGw6BT",
        "outputId": "3e08e255-4800-498c-8c82-f11868eded77",
        "colab": {
          "base_uri": "https://localhost:8080/",
          "height": 711
        }
      },
      "source": [
        "nmax=100\n",
        "time_f=np.zeros(3)\n",
        "df=pd.DataFrame(index=range(1,nmax),columns=[\"Résultats séquentiel\", \"Résultats parallèle\", \"Résultats numpy\"])\n",
        "\n",
        "for n in range(1,nmax):\n",
        "  \n",
        "    u = np.random.random((n,n))\n",
        "    L = np.zeros((n,n))\n",
        "    U = np.zeros((n,n))\n",
        "    d = np.zeros(n)\n",
        "    c = np.zeros(n)\n",
        "    x = np.zeros(n)\n",
        "    inverse = np.zeros((n,n))\n",
        "    inv_L = np.zeros((n,n))\n",
        "    res = np.zeros((n,n))\n",
        "\n",
        "    time_f[0]=time.time()\n",
        "    s_mat_inv(u)\n",
        "    time_f[0]=time.time()-time_f[0]\n",
        "\n",
        "    time_f[1]=time.time()\n",
        "    my_memview=p_mat_inv(u, L, U, d, c, x, inverse, inv_L, res)\n",
        "    time_f[1]=time.time()-time_f[1]\n",
        "    np.asarray(my_memview)\n",
        "\n",
        "    time_f[2]=time.time()\n",
        "    np.linalg.inv(u)\n",
        "    time_f[2]=time.time()-time_f[2]\n",
        "\n",
        "    df.iloc[n-1,0]=time_f[0]\n",
        "    df.iloc[n-1,1]=time_f[1]\n",
        "    df.iloc[n-1,2]=time_f[2]\n",
        "\n",
        "print(df)\n",
        "plt.figure(figsize=(8,6), dpi=80)\n",
        "plt.plot(df)\n",
        "plt.legend(['Sequentiel', 'Parallel', 'Numpy'])\n",
        "plt.xlabel(\"N\")\n",
        "plt.ylabel(\"Temps d'exécution\")\n",
        "plt.title(\"Sequential / Parallel / numpy inverse\")"
      ],
      "execution_count": 21,
      "outputs": [
        {
          "output_type": "stream",
          "text": [
            "   Résultats séquentiel Résultats parallèle Résultats numpy\n",
            "1           3.74317e-05          0.00158334       0.0195758\n",
            "2            6.4373e-05          0.00839543     0.000622272\n",
            "3           0.000921249           0.0050168     0.000229597\n",
            "4           0.000124216          0.00637197      0.00417924\n",
            "5           0.000375509          0.00188541      0.00474358\n",
            "..                  ...                 ...             ...\n",
            "95             0.803694          0.00206828      0.00525784\n",
            "96             0.793915          0.00235462      0.00650191\n",
            "97             0.832494          0.00222516       0.0112305\n",
            "98             0.845046          0.00240874      0.00664234\n",
            "99             0.868208          0.00227284       0.0113769\n",
            "\n",
            "[99 rows x 3 columns]\n"
          ],
          "name": "stdout"
        },
        {
          "output_type": "execute_result",
          "data": {
            "text/plain": [
              "Text(0.5, 1.0, 'Sequential / Parallel / numpy inverse')"
            ]
          },
          "metadata": {
            "tags": []
          },
          "execution_count": 21
        },
        {
          "output_type": "display_data",
          "data": {
            "image/png": "[encoded data removed]",
            "text/plain": [
              "<Figure size 640x480 with 1 Axes>"
            ]
          },
          "metadata": {
            "tags": []
          }
        }
      ]
    },
    {
      "cell_type": "markdown",
      "metadata": {
        "colab_type": "text",
        "id": "p0l_sPFpsm0u"
      },
      "source": [
        "### Fonction Det"
      ]
    },
    {
      "cell_type": "markdown",
      "metadata": {
        "colab_type": "text",
        "id": "gA6Ju6m6ZB9G"
      },
      "source": [
        "**`mat_det(a)`** : Renvoie le déterminant de la matrice `a`."
      ]
    },
    {
      "cell_type": "code",
      "metadata": {
        "colab_type": "code",
        "id": "a4_4unzHaAze",
        "colab": {}
      },
      "source": [
        "from copy import deepcopy\n",
        " \n",
        "def matrice_c(m,i):\n",
        "    if type(m).__module__ == np.__name__:\n",
        "        m=m.tolist()  \n",
        "    mbis = deepcopy(m)\n",
        "    del(mbis[i])\n",
        "    for line in mbis:\n",
        "        del(line[0])\n",
        "    return mbis\n",
        "  \n",
        "def s_mat_det(m):\n",
        "    return m[0][0] if len(m)==1 else sum(((-1)**i)*m[i][0]*s_mat_det(matrice_c(m,i)) \\\n",
        "           for i in range(0,len(m)))"
      ],
      "execution_count": 0,
      "outputs": []
    },
    {
      "cell_type": "code",
      "metadata": {
        "colab_type": "code",
        "id": "6d7Ol8-3P3vG",
        "colab": {}
      },
      "source": [
        "%%cython --compile-args=-fopenmp --link-args=-fopenmp --force\n",
        "from copy import deepcopy\n",
        "import cython\n",
        "from cython.parallel import parallel, prange\n",
        "import numpy as np \n",
        "\n",
        "@cython.boundscheck(False)\n",
        "@cython.wraparound(False)\n",
        "\n",
        "def p_matrice_c(m,i):\n",
        "    if type(m).__module__ == np.__name__:\n",
        "        m=m.tolist()  \n",
        "    mbis = deepcopy(m)\n",
        "    del(mbis[i])\n",
        "    for line in mbis:\n",
        "        del(line[0])\n",
        "    return mbis\n",
        "  \n",
        "def p_mat_det(m):\n",
        "    cdef int i\n",
        "    return m[0][0] if len(m)==1 else sum(((-1)**i)*m[i][0]*p_mat_det(p_matrice_c(m,i)) \\\n",
        "           for i in range(0,len(m)))"
      ],
      "execution_count": 0,
      "outputs": []
    },
    {
      "cell_type": "markdown",
      "metadata": {
        "colab_type": "text",
        "id": "Tj9_EERWcMsE"
      },
      "source": [
        "**Test de vitesse**"
      ]
    },
    {
      "cell_type": "code",
      "metadata": {
        "colab_type": "code",
        "id": "fZWjazFrcOh_",
        "colab": {}
      },
      "source": [
        "u = np.array([[2.3,1,-1],[4,6,1],[-2,11,8]])"
      ],
      "execution_count": 0,
      "outputs": []
    },
    {
      "cell_type": "code",
      "metadata": {
        "colab_type": "code",
        "id": "oSvA3ZW0cR49",
        "outputId": "aecccace-a1cd-4fbd-9667-5ebda835006f",
        "colab": {
          "base_uri": "https://localhost:8080/",
          "height": 35
        }
      },
      "source": [
        "%timeit s_mat_det(u)"
      ],
      "execution_count": 0,
      "outputs": [
        {
          "output_type": "stream",
          "text": [
            "344 µs ± 86.7 µs per loop (mean ± std. dev. of 7 runs, 1000 loops each)\n"
          ],
          "name": "stdout"
        }
      ]
    },
    {
      "cell_type": "code",
      "metadata": {
        "colab_type": "code",
        "id": "z2bttIUUcVB8",
        "outputId": "81126954-9276-4585-bc54-340bcd6d8f9f",
        "colab": {
          "base_uri": "https://localhost:8080/",
          "height": 35
        }
      },
      "source": [
        "%timeit p_mat_det(u)"
      ],
      "execution_count": 0,
      "outputs": [
        {
          "output_type": "stream",
          "text": [
            "346 µs ± 72.8 µs per loop (mean ± std. dev. of 7 runs, 1000 loops each)\n"
          ],
          "name": "stdout"
        }
      ]
    },
    {
      "cell_type": "code",
      "metadata": {
        "colab_type": "code",
        "id": "rdVTR2yacYva",
        "outputId": "6dc4d5d4-ba9a-47c9-a95f-04696eae265b",
        "colab": {
          "base_uri": "https://localhost:8080/",
          "height": 52
        }
      },
      "source": [
        "%timeit np.linalg.det(u)"
      ],
      "execution_count": 0,
      "outputs": [
        {
          "output_type": "stream",
          "text": [
            "20.6 µs ± 2.61 µs per loop (mean ± std. dev. of 7 runs, 10000 loops each)\n"
          ],
          "name": "stdout"
        }
      ]
    },
    {
      "cell_type": "markdown",
      "metadata": {
        "colab_type": "text",
        "id": "AZDqm_53x0KU"
      },
      "source": [
        "**Mesure et Graphique**"
      ]
    },
    {
      "cell_type": "code",
      "metadata": {
        "colab_type": "code",
        "id": "d0ExAiiSx3Fk",
        "outputId": "ec1805b0-469c-4e97-9aa8-d3a044ae5499",
        "colab": {
          "base_uri": "https://localhost:8080/",
          "height": 491
        }
      },
      "source": [
        "nmax=10\n",
        "time_f=np.zeros(3)\n",
        "df=pd.DataFrame(index=range(1,nmax),columns=[\"Résultats séquentiel\", \"Résultats parallèle\", \"Résultats numpy\"])\n",
        "\n",
        "for n in range(1,nmax):\n",
        "  \n",
        "    u = np.random.random((n,n))\n",
        "\n",
        "    time_f[0]=time.time()\n",
        "    s_mat_det(u)\n",
        "    time_f[0]=time.time()-time_f[0]\n",
        "\n",
        "    time_f[1]=time.time()\n",
        "    p_mat_det(u)\n",
        "    time_f[1]=time.time()-time_f[1]\n",
        "\n",
        "    time_f[2]=time.time()\n",
        "    np.linalg.det(u)\n",
        "    time_f[2]=time.time()-time_f[2]\n",
        "\n",
        "    df.iloc[n-1,0]=time_f[0]\n",
        "    df.iloc[n-1,1]=time_f[1]\n",
        "    df.iloc[n-1,2]=time_f[2]\n",
        "\n",
        "print(df)\n",
        "plt.figure(figsize=(8,6), dpi=80)\n",
        "plt.plot(df)\n",
        "plt.legend(['Sequentiel', 'Parallel', 'Numpy'])\n",
        "plt.xlabel(\"N\")\n",
        "plt.ylabel(\"Temps d'exécution\")\n",
        "plt.title(\"Sequential / Parallel / numpy det\")"
      ],
      "execution_count": 0,
      "outputs": [
        {
          "output_type": "stream",
          "text": [
            "  Résultats séquentiel Résultats parallèle Résultats numpy\n",
            "1                    0                   0       0.0010035\n",
            "2                    0                   0               0\n",
            "3                    0          0.00099659               0\n",
            "4            0.0019958          0.00199389      0.00101662\n",
            "5            0.0079782          0.00398755               0\n",
            "6            0.0309196           0.0458715      0.00100374\n",
            "7              0.32812            0.142623               0\n",
            "8               1.3464             1.00532               0\n",
            "9              11.4115             11.0574               0\n"
          ],
          "name": "stdout"
        },
        {
          "output_type": "execute_result",
          "data": {
            "text/plain": [
              "Text(0.5, 1.0, 'Sequential / Parallel / numpy det')"
            ]
          },
          "metadata": {
            "tags": []
          },
          "execution_count": 83
        },
        {
          "output_type": "display_data",
          "data": {
            "image/png": "[encoded data removed]",
            "text/plain": [
              "<Figure size 640x480 with 1 Axes>"
            ]
          },
          "metadata": {
            "tags": [],
            "needs_background": "light"
          }
        }
      ]
    },
    {
      "cell_type": "markdown",
      "metadata": {
        "colab_type": "text",
        "id": "hLKpeXrQsm1O"
      },
      "source": [
        "### Fonction Tile"
      ]
    },
    {
      "cell_type": "markdown",
      "metadata": {
        "colab_type": "text",
        "id": "3wE00lqeZB9z"
      },
      "source": [
        "**`mat_tile(a, n)`** : Renvoie une matrice qui empile `a` `n`fois."
      ]
    },
    {
      "cell_type": "markdown",
      "metadata": {
        "colab_type": "text",
        "id": "t3wMIBTLZB91"
      },
      "source": [
        "**Code séquentiel**"
      ]
    },
    {
      "cell_type": "code",
      "metadata": {
        "colab_type": "code",
        "id": "Eg2frzIOZB92",
        "colab": {}
      },
      "source": [
        "def s_mat_tile(a, rep):\n",
        "    n, p = a.shape\n",
        "    res = np.zeros((n,p*rep))\n",
        "    \n",
        "    for i in range(n):\n",
        "        for j in range(rep):\n",
        "            res[i,j*p:j*p+p] = a[i]\n",
        "\n",
        "    return res"
      ],
      "execution_count": 0,
      "outputs": []
    },
    {
      "cell_type": "markdown",
      "metadata": {
        "colab_type": "text",
        "id": "XouEhLa3ZB99"
      },
      "source": [
        "**Code parallélisé**"
      ]
    },
    {
      "cell_type": "code",
      "metadata": {
        "colab_type": "code",
        "id": "pQ2_15uVZB-A",
        "colab": {}
      },
      "source": [
        "%%cython --compile-args=-fopenmp --link-args=-fopenmp --force\n",
        "\n",
        "import cython\n",
        "from cython.parallel import parallel, prange\n",
        "\n",
        "@cython.boundscheck(False)\n",
        "@cython.wraparound(False)\n",
        "\n",
        "def p_mat_tile(double[:,:] a, int rep, double[:,:] res):\n",
        "    cdef int n, p\n",
        "    n = a.shape[0]\n",
        "    p = a.shape[1]\n",
        "\n",
        "    cdef int i, j\n",
        "    # parallélisation\n",
        "    with cython.nogil, parallel():\n",
        "        for i in prange(n):\n",
        "            for j in prange(rep):\n",
        "                res[i,j*p:j*p+p] = a[i]\n",
        "                    \n",
        "    return res"
      ],
      "execution_count": 0,
      "outputs": []
    },
    {
      "cell_type": "markdown",
      "metadata": {
        "colab_type": "text",
        "id": "PIW_UVvjZB-F"
      },
      "source": [
        "**Test de vitesse**"
      ]
    },
    {
      "cell_type": "code",
      "metadata": {
        "colab_type": "code",
        "id": "jZgmSIjvZB-G",
        "colab": {}
      },
      "source": [
        "n = 10\n",
        "p = 20\n",
        "rep = 7\n",
        "u = np.random.random((n,p))\n",
        "res = np.zeros((n,p*rep))"
      ],
      "execution_count": 0,
      "outputs": []
    },
    {
      "cell_type": "code",
      "metadata": {
        "colab_type": "code",
        "id": "KgHwOlM6ZB-S",
        "outputId": "5755b0ac-1fd3-4bb7-b767-cf0ba761dbb6",
        "colab": {
          "base_uri": "https://localhost:8080/",
          "height": 52
        }
      },
      "source": [
        "%timeit s_mat_tile(u, rep)"
      ],
      "execution_count": 0,
      "outputs": [
        {
          "output_type": "stream",
          "text": [
            "131 µs ± 16.8 µs per loop (mean ± std. dev. of 7 runs, 1000 loops each)\n"
          ],
          "name": "stdout"
        }
      ]
    },
    {
      "cell_type": "code",
      "metadata": {
        "colab_type": "code",
        "id": "vWVSXdxcZB-X",
        "outputId": "53d20721-3769-4aad-9ff6-d945608ea2e8",
        "colab": {}
      },
      "source": [
        "%timeit p_mat_tile(u, rep, res)"
      ],
      "execution_count": 0,
      "outputs": [
        {
          "output_type": "stream",
          "text": [
            "59.5 µs ± 15.3 µs per loop (mean ± std. dev. of 7 runs, 10000 loops each)\n"
          ],
          "name": "stdout"
        }
      ]
    },
    {
      "cell_type": "code",
      "metadata": {
        "colab_type": "code",
        "id": "ItWsABE6ZB-g",
        "outputId": "fb905b93-c610-4b4b-a6f7-100cc2639e48",
        "colab": {}
      },
      "source": [
        "%timeit np.tile(u,rep)"
      ],
      "execution_count": 0,
      "outputs": [
        {
          "output_type": "stream",
          "text": [
            "36 µs ± 7.48 µs per loop (mean ± std. dev. of 7 runs, 10000 loops each)\n"
          ],
          "name": "stdout"
        }
      ]
    },
    {
      "cell_type": "markdown",
      "metadata": {
        "colab_type": "text",
        "id": "RBdmNouh4uvZ"
      },
      "source": [
        "**Mesure et Graphique**"
      ]
    },
    {
      "cell_type": "code",
      "metadata": {
        "colab_type": "code",
        "id": "t5YJWrtC43tL",
        "outputId": "72b7d2ad-2bbf-4fdc-9a51-7e88fa58b653",
        "colab": {}
      },
      "source": [
        "import time\n",
        "\n",
        "time_f=np.zeros(3)\n",
        "nmax=100\n",
        "df=pd.DataFrame(index=range(1,nmax),columns=[\"Résultats séquentiel\", \"Résultats parallèle\", \"Résultats numpy\"])\n",
        "\n",
        "for n in range(1,nmax):\n",
        "    p = 20\n",
        "    rep = 7\n",
        "    u = np.random.random((n,p))\n",
        "    res = np.zeros((n,p*rep))\n",
        "\n",
        "\n",
        "    time_f[0]=time.time()\n",
        "    s_mat_tile(u,rep)\n",
        "    time_f[0]=time.time()-time_f[0]\n",
        "    df.iloc[n-1,0]=time_f[0]\n",
        "\n",
        "    \n",
        "    time_f[1]=time.time()\n",
        "    p_mat_tile(u,rep,res)\n",
        "    time_f[1]=time.time()-time_f[1]\n",
        "    df.iloc[n-1,1]=time_f[1]\n",
        "\n",
        "    time_f[2]=time.time()\n",
        "    np.tile(u,rep)\n",
        "    time_f[2]=time.time()-time_f[2]\n",
        "    df.iloc[n-1,2]=time_f[2]\n",
        "\n",
        "\n",
        "print(df)\n",
        "plt.figure(figsize=(8,6), dpi=80)\n",
        "plt.plot(df)\n",
        "plt.legend(['Sequentiel', 'Parallel', 'Numpy'])\n",
        "plt.xlabel(\"N\")\n",
        "plt.ylabel(\"Temps d'exécution\")\n",
        "plt.title(\"Sequential / Parallel / numpy det\")"
      ],
      "execution_count": 0,
      "outputs": [
        {
          "output_type": "stream",
          "text": [
            "   Résultats séquentiel Résultats parallèle Résultats numpy\n",
            "1                     0                   0     0.000996113\n",
            "2                     0                   0               0\n",
            "3                     0                   0               0\n",
            "4                     0                   0               0\n",
            "5                     0                   0               0\n",
            "..                  ...                 ...             ...\n",
            "95                    0                   0               0\n",
            "96          0.000996828                   0               0\n",
            "97          0.000997782                   0     0.000999928\n",
            "98          0.000995874                   0               0\n",
            "99          0.000993967                   0               0\n",
            "\n",
            "[99 rows x 3 columns]\n"
          ],
          "name": "stdout"
        },
        {
          "output_type": "execute_result",
          "data": {
            "text/plain": [
              "Text(0.5, 1.0, 'Sequential / Parallel / numpy det')"
            ]
          },
          "metadata": {
            "tags": []
          },
          "execution_count": 78
        },
        {
          "output_type": "display_data",
          "data": {
            "image/png": "[encoded data removed]",
            "text/plain": [
              "<Figure size 640x480 with 1 Axes>"
            ]
          },
          "metadata": {
            "tags": [],
            "needs_background": "light"
          }
        }
      ]
    },
    {
      "cell_type": "markdown",
      "metadata": {
        "colab_type": "text",
        "id": "e78TYPAksm1o"
      },
      "source": [
        "## 5. Gauss PDF"
      ]
    },
    {
      "cell_type": "markdown",
      "metadata": {
        "colab_type": "text",
        "id": "8_lzQ2p2ZB-2"
      },
      "source": [
        "**Code séquentiel**"
      ]
    },
    {
      "cell_type": "code",
      "metadata": {
        "colab_type": "code",
        "id": "DfmGIXcjZB-4",
        "colab": {}
      },
      "source": [
        "def s_gauss_pdf(X, M, S):\n",
        "    if M.shape[1] == 1:\n",
        "        DX = X - s_mat_tile(M, X.shape[1])\n",
        "        E = 0.5 * s_mat_sum(DX * (s_mat_dot(s_mat_inv(S), DX)), 0)\n",
        "        E = E + 0.5 * M.shape[0] * np.log(2 * np.pi) + 0.5 * np.log(s_mat_det(S))\n",
        "        P = np.exp(-E)\n",
        "    elif X.shape[1] == 1:\n",
        "        DX = s_mat_tile(X, M.shape[1]) - M\n",
        "        E = 0.5 * s_mat_sum(DX * (s_mat_dot(s_mat_inv(S), DX)), 0)\n",
        "        E = E + 0.5 * M.shape[0] * np.log(2 * np.pi) + 0.5 * np.log(s_mat_det(S))\n",
        "        P = np.exp(-E)\n",
        "    else:\n",
        "        DX = X - M\n",
        "        E = 0.5 * s_mat_dot(s_mat_transpose(DX), s_mat_dot(s_mat_inv(S), DX))\n",
        "        E = E + 0.5 * M.shape[0] * np.log(2 * np.pi) + 0.5 * np.log(s_mat_det(S))\n",
        "        P = np.exp(-E)\n",
        "    return (P[0],E[0]) "
      ],
      "execution_count": 0,
      "outputs": []
    },
    {
      "cell_type": "markdown",
      "metadata": {
        "colab_type": "text",
        "id": "gpH751eIZB-9"
      },
      "source": [
        "**Code parallélisé**"
      ]
    },
    {
      "cell_type": "code",
      "metadata": {
        "colab_type": "code",
        "id": "xNPsRQeVZB-_",
        "colab": {}
      },
      "source": [
        "def p_gauss_pdf(X, M, S):\n",
        "    if M.shape[1] == 1:\n",
        "        DX = X - np.array(p_mat_tile(M, X.shape[1], np.zeros((M.shape[0], M.shape[1] * X.shape[1]))))\n",
        "        E = 0.5 * np.array(p_mat_sum(DX * p_mat_dot(p_mat_inv(S, np.zeros((S.shape[0], S.shape[1])), np.zeros((S.shape[0], S.shape[1])), np.zeros(S.shape[0]), np.zeros(S.shape[0]), np.zeros(S.shape[0]), np.zeros((S.shape[0], S.shape[1])), np.zeros((S.shape[0], S.shape[1])), np.zeros((S.shape[0], S.shape[1]))), DX, np.zeros((S.shape[0], DX.shape[1]))), 0, np.zeros(DX.shape[1])))\n",
        "        E = E + 0.5 * M.shape[0] * np.log(2 * np.pi) + 0.5 * np.log(p_mat_det(S))\n",
        "        P = np.exp(-E)\n",
        "    elif X.shape[1] == 1:\n",
        "        DX = np.array(p_mat_tile(X, M.shape[1], np.zeros((M.shape[0], M.shape[1] * X.shape[1])))) - M\n",
        "        E = 0.5 * np.array(p_mat_sum(DX * p_mat_dot(p_mat_inv(S, np.zeros((S.shape[0], S.shape[1])), np.zeros((S.shape[0], S.shape[1])), np.zeros(S.shape[0]), np.zeros(S.shape[0]), np.zeros(S.shape[0]), np.zeros((S.shape[0], S.shape[1])), np.zeros((S.shape[0], S.shape[1])), np.zeros((S.shape[0], S.shape[1]))), DX, np.zeros((S.shape[0], DX.shape[1]))), 0, np.zeros(DX.shape[1])))\n",
        "        E = E + 0.5 * M.shape[0] * np.log(2 * np.pi) + 0.5 * np.log(p_mat_det(S))\n",
        "        P = np.exp(-E)\n",
        "    else:\n",
        "        DX = X - M\n",
        "        E = 0.5 * np.array(p_mat_dot(p_mat_transpose(DX, np.zeros((DX.shape[1], DX.shape[0]))), p_mat_dot(p_mat_inv(S, np.zeros((S.shape[0], S.shape[1])), np.zeros((S.shape[0], S.shape[1])), np.zeros(S.shape[0]), np.zeros(S.shape[0]), np.zeros(S.shape[0]), np.zeros((S.shape[0], S.shape[1])), np.zeros((S.shape[0], S.shape[1])), np.zeros((S.shape[0], S.shape[1]))), DX, np.zeros((S.shape[0], DX.shape[1]))), np.zeros((S.shape[1], DX.shape[1]))))\n",
        "        E = E + 0.5 * M.shape[0] * np.log(2 * np.pi) + 0.5 * np.log(p_mat_det(S))\n",
        "        P = np.exp(-E)\n",
        "    return (P[0],E[0])"
      ],
      "execution_count": 0,
      "outputs": []
    },
    {
      "cell_type": "markdown",
      "metadata": {
        "colab_type": "text",
        "id": "KDDPfVN0ZB_I"
      },
      "source": [
        "**Numpy**"
      ]
    },
    {
      "cell_type": "code",
      "metadata": {
        "colab_type": "code",
        "id": "fucxQHBPZB_L",
        "colab": {}
      },
      "source": [
        "def np_gauss_pdf(X, M, S):\n",
        "    if M.shape[1] == 1:\n",
        "        DX = X - np.tile(M, X.shape[1])\n",
        "        E = 0.5 * np.sum(DX * (np.dot(np.linalg.inv(S), DX)), axis = 0)\n",
        "        E = E + 0.5 * M.shape[0] * np.log(2 * np.pi) + 0.5 * np.log(np.linalg.det(S))\n",
        "        P = np.exp(-E)\n",
        "    elif X.shape[1] == 1:\n",
        "        DX = np.tile(X, M.shape[1]) - M\n",
        "        E = 0.5 * np.sum(DX * (np.dot(np.linalg.inv(S), DX)), axis = 0)\n",
        "        E = E + 0.5 * M.shape[0] * np.log(2 * np.pi) + 0.5 * np.log(np.linalg.det(S))\n",
        "        P = np.exp(-E)\n",
        "    else:\n",
        "        DX = X - M\n",
        "        E = 0.5 * np.dot(np.transpose(DX), np.dot(np.linalg.inv(S), DX))\n",
        "        E = E + 0.5 * M.shape[0] * np.log(2 * np.pi) + 0.5 * np.log(np.linalg.det(S))\n",
        "        P = np.exp(-E)\n",
        "    return (P[0],E[0])"
      ],
      "execution_count": 0,
      "outputs": []
    },
    {
      "cell_type": "markdown",
      "metadata": {
        "colab_type": "text",
        "id": "J-B83qu4ZB_U"
      },
      "source": [
        "## 6. Filtre de Kalman"
      ]
    },
    {
      "cell_type": "markdown",
      "metadata": {
        "colab_type": "text",
        "id": "5O0TE12RZB_W"
      },
      "source": [
        "### Phases de prédiction et de mise à jour"
      ]
    },
    {
      "cell_type": "markdown",
      "metadata": {
        "colab_type": "text",
        "id": "dRBfQ84nsm10"
      },
      "source": [
        "#### Fonction de prédiction"
      ]
    },
    {
      "cell_type": "markdown",
      "metadata": {
        "colab_type": "text",
        "id": "7h7-R_26ZB_Y"
      },
      "source": [
        "**`kf_predict(X, P, A, Q, B, U)`** : Etape de prédiction"
      ]
    },
    {
      "cell_type": "markdown",
      "metadata": {
        "colab_type": "text",
        "id": "ztr66TM_ZB_g"
      },
      "source": [
        "**Code séquentiel**"
      ]
    },
    {
      "cell_type": "code",
      "metadata": {
        "colab_type": "code",
        "id": "nHloYAGRZB_j",
        "colab": {}
      },
      "source": [
        "def s_kf_predict(X, P, A, Q, B, U):\n",
        "    X = s_mat_dot(A, X) + s_mat_dot(B, U)\n",
        "    P = s_mat_dot(A, s_mat_dot(P, s_mat_transpose(A))) + Q\n",
        "    return(X, P)"
      ],
      "execution_count": 0,
      "outputs": []
    },
    {
      "cell_type": "markdown",
      "metadata": {
        "colab_type": "text",
        "id": "mXbJx2kcZB_r"
      },
      "source": [
        "**Code parallélisé**"
      ]
    },
    {
      "cell_type": "code",
      "metadata": {
        "colab_type": "code",
        "id": "nFc2H_kyZB_t",
        "colab": {}
      },
      "source": [
        "def p_kf_predict(X, P, A, Q, B, U):\n",
        "    X = np.array(p_mat_dot(A, X, np.zeros((A.shape[0], X.shape[1])))) \\\n",
        "        + np.array(p_mat_dot(B, U, np.zeros((B.shape[0], U.shape[1]))))\n",
        "    \n",
        "    P = np.array(p_mat_dot(A, p_mat_dot(P, p_mat_transpose(A, np.zeros((A.shape[1], A.shape[0]))), \\\n",
        "        np.zeros((P.shape[0], A.shape[0]))), np.zeros((A.shape[0], A.shape[0])))) + Q\n",
        "    \n",
        "    return(X, P)"
      ],
      "execution_count": 0,
      "outputs": []
    },
    {
      "cell_type": "markdown",
      "metadata": {
        "colab_type": "text",
        "id": "iuXIhukuZB_5"
      },
      "source": [
        "**Numpy**"
      ]
    },
    {
      "cell_type": "code",
      "metadata": {
        "colab_type": "code",
        "id": "b1vSnuX0ZB_7",
        "colab": {}
      },
      "source": [
        "def np_kf_predict(X, P, A, Q, B, U):\n",
        "    X = np.dot(A, X) + np.dot(B, U)\n",
        "    P = np.dot(A, np.dot(P, np.transpose(A))) + Q\n",
        "    return(X, P)"
      ],
      "execution_count": 0,
      "outputs": []
    },
    {
      "cell_type": "markdown",
      "metadata": {
        "colab_type": "text",
        "id": "lnZBy7-1sm2B"
      },
      "source": [
        "#### Fonction de mise à jour"
      ]
    },
    {
      "cell_type": "markdown",
      "metadata": {
        "colab_type": "text",
        "id": "xpex4Cf4ZCAE"
      },
      "source": [
        "**`kf_update(X, P, Y, H, R)`** : Etape de mise à jour"
      ]
    },
    {
      "cell_type": "markdown",
      "metadata": {
        "colab_type": "text",
        "id": "yU1MUb_MZCAF"
      },
      "source": [
        "**Code séquentiel**"
      ]
    },
    {
      "cell_type": "code",
      "metadata": {
        "colab_type": "code",
        "id": "vt2mmWGTZCAL",
        "colab": {}
      },
      "source": [
        "def s_kf_update(X, P, Y, H, R):\n",
        "    IM = s_mat_dot(H, X)\n",
        "    V = Y - IM\n",
        "    IS = R + s_mat_dot(H, s_mat_dot(P, s_mat_transpose(H)))\n",
        "    K = s_mat_dot(P, s_mat_dot(s_mat_transpose(H), s_mat_inv(IS)))\n",
        "    X = X + s_mat_dot(K, V)\n",
        "    P = P - s_mat_dot(K, s_mat_dot(IS, s_mat_transpose(K)))\n",
        "    LH = s_gauss_pdf(Y, IM, IS)\n",
        "    return(X, P, K, IM, IS, LH)"
      ],
      "execution_count": 0,
      "outputs": []
    },
    {
      "cell_type": "markdown",
      "metadata": {
        "colab_type": "text",
        "id": "hr2gxWI7ZCAS"
      },
      "source": [
        "**Code parallélisé**"
      ]
    },
    {
      "cell_type": "code",
      "metadata": {
        "colab_type": "code",
        "id": "-P2KP4AYZCAV",
        "colab": {}
      },
      "source": [
        "def p_kf_update(X, P, Y, H, R):\n",
        "    IM = p_mat_dot(np.double(H), X, np.zeros((H.shape[0], X.shape[1])))\n",
        "    V = Y - IM\n",
        "    tH = p_mat_transpose(np.double(H), np.zeros((H.shape[1], H.shape[0])))\n",
        "    IS = R + np.array(p_mat_dot(np.double(H), p_mat_dot(P, p_mat_transpose(np.double(H), np.zeros((H.shape[1], H.shape[0]))), np.zeros((P.shape[0], H.shape[0]))), \\\n",
        "         np.zeros((H.shape[0], H.shape[0]))))\n",
        "    iIS = p_mat_inv(IS, np.zeros((IS.shape[0], IS.shape[1])), np.zeros((IS.shape[0], IS.shape[1])), \\\n",
        "          np.zeros(IS.shape[0]), np.zeros(IS.shape[0]), np.zeros(IS.shape[0]), \\\n",
        "          np.zeros((IS.shape[0], IS.shape[1])), np.zeros((IS.shape[0], IS.shape[1])), \\\n",
        "          np.zeros((IS.shape[0], IS.shape[1])))\n",
        "    K = p_mat_dot(P, p_mat_dot(tH,iIS, np.zeros((tH.shape[0], iIS.shape[1]))), np.zeros((P.shape[0], iIS.shape[1])))\n",
        "    X = X + p_mat_dot(K, V, np.zeros((K.shape[0], V.shape[1])))\n",
        "    P = P - p_mat_dot(K, p_mat_dot(IS, p_mat_transpose(K, np.zeros((K.shape[1], K.shape[0]))), \\\n",
        "          np.zeros((IS.shape[0], K.shape[0]))), np.zeros((K.shape[0], K.shape[0])))    \n",
        "    LH = p_gauss_pdf(Y, IM, IS)\n",
        "    return(X, P, K, IM, IS, LH)"
      ],
      "execution_count": 0,
      "outputs": []
    },
    {
      "cell_type": "markdown",
      "metadata": {
        "colab_type": "text",
        "id": "tEulKMxTZCAc"
      },
      "source": [
        "**Numpy**"
      ]
    },
    {
      "cell_type": "code",
      "metadata": {
        "colab_type": "code",
        "id": "gDEMCzwGZCAe",
        "colab": {}
      },
      "source": [
        "def np_kf_update(X, P, Y, H, R):\n",
        "    IM = np.dot(H, X)\n",
        "    V = Y - IM\n",
        "    IS = R + np.dot(H, np.dot(P, np.transpose(H)))\n",
        "    K = np.dot(P, np.dot(np.transpose(H), np.linalg.inv(IS)))\n",
        "    X = X + np.dot(K, V)\n",
        "    P = P - np.dot(K, np.dot(IS, np.transpose(K)))\n",
        "    LH = np_gauss_pdf(Y, IM, IS)\n",
        "    return(X, P, K, IM, IS, LH)"
      ],
      "execution_count": 0,
      "outputs": []
    },
    {
      "cell_type": "markdown",
      "metadata": {
        "colab_type": "text",
        "id": "PU250_zRZCAl"
      },
      "source": [
        "### Application"
      ]
    },
    {
      "cell_type": "markdown",
      "metadata": {
        "colab_type": "text",
        "id": "5c8b9tNSZCAm"
      },
      "source": [
        "**Code séquentiel**"
      ]
    },
    {
      "cell_type": "code",
      "metadata": {
        "colab_type": "code",
        "id": "l6bOJrSyZCAn",
        "outputId": "ab74149f-3966-49e6-9353-c8e87b8fdeb6",
        "colab": {}
      },
      "source": [
        "%%timeit \n",
        "\n",
        "#time step of mobile movement\n",
        "dt = 0.1\n",
        "\n",
        "# Initialization of state matrices\n",
        "X = np.array([[0.0], [0.0], [0.1], [0.1]])\n",
        "P = s_mat_diag((0.01, 0.01, 0.01, 0.01))\n",
        "A = np.array([[1, 0, dt , 0], [0, 1, 0, dt], [0, 0, 1, 0], [0, 0, 0, 1]])\n",
        "Q = s_mat_eye(X.shape[0])\n",
        "B = s_mat_eye(X.shape[0])\n",
        "U = np.zeros((X.shape[0],1)) \n",
        "\n",
        "# Measurement matrices\n",
        "Y = np.array([[X[0,0] + abs(np.random.randn(1)[0])], [X[1,0] + abs(np.random.randn(1)[0])]])\n",
        "H = np.array([[1, 0, 0, 0], [0, 1, 0, 0]])\n",
        "R = s_mat_eye(Y.shape[0])\n",
        "\n",
        "# Number of iterations in Kalman Filter\n",
        "N_iter = 50\n",
        "\n",
        "# Applying the Kalman Filter\n",
        "for i in range(N_iter):\n",
        "    (X, P) = s_kf_predict(X, P, A, Q, B, U)\n",
        "    (X, P, K, IM, IS, LH) = s_kf_update(X, P, Y, H, R)\n",
        "    Y = np.array([[X[0,0] + abs(0.1 * np.random.randn(1)[0])],[X[1, 0] + abs(0.1 * np.random.randn(1)[0])]])"
      ],
      "execution_count": 0,
      "outputs": [
        {
          "output_type": "stream",
          "text": [
            "56.3 ms ± 10.8 ms per loop (mean ± std. dev. of 7 runs, 10 loops each)\n"
          ],
          "name": "stdout"
        }
      ]
    },
    {
      "cell_type": "markdown",
      "metadata": {
        "colab_type": "text",
        "id": "aeFycQPxZCAr"
      },
      "source": [
        "**Code parallélisé**"
      ]
    },
    {
      "cell_type": "code",
      "metadata": {
        "colab_type": "code",
        "id": "j7xn2yQcZCAs",
        "outputId": "d32a1b23-6f3c-435f-a977-61e93a21bf84",
        "colab": {}
      },
      "source": [
        "%%timeit\n",
        "\n",
        "#time step of mobile movement\n",
        "dt = 0.1\n",
        "\n",
        "# Initialization of state matrices\n",
        "X = np.array([[0.0], [0.0], [0.1], [0.1]])\n",
        "P = p_mat_diag(np.array([0.01, 0.01, 0.01, 0.01]), np.zeros((np.array([0.01, 0.01, 0.01, 0.01]).shape[0], np.array([0.01, 0.01, 0.01, 0.01]).shape[0])))\n",
        "A = np.array([[1, 0, dt , 0], [0, 1, 0, dt], [0, 0, 1, 0], [0, 0, 0, 1]])\n",
        "Q = p_mat_eye(X.shape[0], np.zeros((X.shape[0], X.shape[0])))\n",
        "B = p_mat_eye(X.shape[0], np.zeros((X.shape[0], X.shape[0])))\n",
        "U = np.zeros((X.shape[0],1)) \n",
        "\n",
        "# Measurement matrices\n",
        "Y = np.array([[X[0,0] + abs(np.random.randn(1)[0])], [X[1,0] + abs(np.random.randn(1)[0])]])\n",
        "H = np.array([[1, 0, 0, 0], [0, 1, 0, 0]])\n",
        "R = p_mat_eye(Y.shape[0], np.zeros((Y.shape[0], Y.shape[0])))\n",
        "\n",
        "# Number of iterations in Kalman Filter\n",
        "N_iter = 50\n",
        "\n",
        "# Applying the Kalman Filter\n",
        "for i in range(N_iter):\n",
        "    (X, P) = p_kf_predict(X, P, A, Q, B, U)\n",
        "    (X, P, K, IM, IS, LH) = p_kf_update(X, P, Y, H, R)\n",
        "    Y = np.array([[X[0,0] + abs(0.1 * np.random.randn(1)[0])],[X[1, 0] + abs(0.1 * np.random.randn(1)[0])]])\n"
      ],
      "execution_count": 0,
      "outputs": [
        {
          "output_type": "stream",
          "text": [
            "30.7 ms ± 6.04 ms per loop (mean ± std. dev. of 7 runs, 10 loops each)\n"
          ],
          "name": "stdout"
        }
      ]
    },
    {
      "cell_type": "markdown",
      "metadata": {
        "colab_type": "text",
        "id": "Bc3N0q0WZCAy"
      },
      "source": [
        "**Numpy**"
      ]
    },
    {
      "cell_type": "code",
      "metadata": {
        "colab_type": "code",
        "id": "5sf5IivOZCA7",
        "outputId": "c7896bcb-559b-455b-98b3-4202d286f242",
        "colab": {}
      },
      "source": [
        "%%timeit\n",
        "\n",
        "#time step of mobile movement\n",
        "dt = 0.1\n",
        "\n",
        "# Initialization of state matrices\n",
        "X = np.array([[0.0], [0.0], [0.1], [0.1]])\n",
        "P = np.diag((0.01, 0.01, 0.01, 0.01))\n",
        "A = np.array([[1, 0, dt , 0], [0, 1, 0, dt], [0, 0, 1, 0], [0, 0, 0, 1]])\n",
        "Q = np.eye(X.shape[0])\n",
        "B = np.eye(X.shape[0])\n",
        "U = np.zeros((X.shape[0],1)) \n",
        "\n",
        "# Measurement matrices\n",
        "Y = np.array([[X[0,0] + abs(np.random.randn(1)[0])], [X[1,0] + abs(np.random.randn(1)[0])]])\n",
        "H = np.array([[1, 0, 0, 0], [0, 1, 0, 0]])\n",
        "R = np.eye(Y.shape[0])\n",
        "\n",
        "# Number of iterations in Kalman Filter\n",
        "N_iter = 50\n",
        "\n",
        "# Applying the Kalman Filter\n",
        "for i in range(N_iter):\n",
        "    (X, P) = np_kf_predict(X, P, A, Q, B, U)\n",
        "    (X, P, K, IM, IS, LH) = np_kf_update(X, P, Y, H, R)\n",
        "    Y = np.array([[X[0,0] + abs(0.1 * np.random.randn(1)[0])],[X[1, 0] + abs(0.1 * np.random.randn(1)[0])]])"
      ],
      "execution_count": 0,
      "outputs": [
        {
          "output_type": "stream",
          "text": [
            "9.29 ms ± 1.58 ms per loop (mean ± std. dev. of 7 runs, 100 loops each)\n"
          ],
          "name": "stdout"
        }
      ]
    },
    {
      "cell_type": "markdown",
      "metadata": {
        "colab_type": "text",
        "id": "_PRhW5TmnVK_"
      },
      "source": [
        "**Mesure et Graphique**"
      ]
    },
    {
      "cell_type": "markdown",
      "metadata": {
        "colab_type": "text",
        "id": "lqZwt92Lsm2k"
      },
      "source": [
        "*Calcul du temps d'exécution en fonction de la taille de la matrice*"
      ]
    },
    {
      "cell_type": "code",
      "metadata": {
        "colab_type": "code",
        "id": "kDD-txQ3nVLD",
        "outputId": "6a01582b-f44a-401d-b49e-c72c7e80a4f8",
        "colab": {}
      },
      "source": [
        "#time step of mobile movement\n",
        "dt = 0.1\n",
        "nmax=8\n",
        "time_f=np.zeros(3)\n",
        "df=pd.DataFrame(index=range(1,nmax),columns=[\"Résultats séquentiel\", \"Résultats parallèle\", \"Résultats numpy\"])\n",
        "\n",
        "#Séquentiel\n",
        "for n in range(3,nmax):\n",
        "    # Initialization of state matrices\n",
        "    time_f[0]=time.time()\n",
        "    X=np.zeros((n,1))\n",
        "    #X[n-2:,1]=0.1\n",
        "    P = np.zeros((n, n), float)\n",
        "    np.fill_diagonal(P, 0.01)\n",
        "\n",
        "    A=np.zeros((n,n))\n",
        "    H=np.zeros((n,n))\n",
        "    for i in range(0,n):\n",
        "\n",
        "        if np.trunc(n/2)==n/2:\n",
        "            if i < n/2:\n",
        "                A[i,i]=1\n",
        "                A[i,i+2]=dt\n",
        "                H[i,i]=1\n",
        "            else: \n",
        "                A[i,i]=1\n",
        "        elif np.trunc(n/2)!=n/2:\n",
        "            if i < np.trunc(n/2)+1:\n",
        "                A[i,i]=1\n",
        "                A[i,i+1]=dt\n",
        "                H[i,i]=1\n",
        "            else: \n",
        "                A[i,i]=1\n",
        "    \n",
        "    Q = s_mat_eye(X.shape[0])\n",
        "    B = s_mat_eye(X.shape[0])\n",
        "    U = np.zeros((X.shape[0],1)) \n",
        "\n",
        "    # Measurement matrices\n",
        "    Y=X+np.random.randn(n,1)\n",
        "    R = s_mat_eye(Y.shape[0])\n",
        "\n",
        "    # Number of iterations in Kalman Filter\n",
        "    N_iter = 50\n",
        "    \n",
        "    # Applying the Kalman Filter\n",
        "    \n",
        "    for i in range(N_iter):\n",
        "        (X, P) = s_kf_predict(X, P, A, Q, B, U)\n",
        "        (X, P, K, IM, IS, LH) = s_kf_update(X, P, Y, H, R)\n",
        "        Y=X+0.1*np.random.randn(n,1)\n",
        "    time_f[0]=time.time()-time_f[0]\n",
        "    \n",
        "    df.iloc[n-1,0]=time_f[0]\n",
        "\n",
        "    #parallèle\n",
        "\n",
        "    # Initialization of state matrices\n",
        "    time_f[1]=time.time()\n",
        "    X=np.zeros((n,1))\n",
        "    #X[n-2:,1]=0.1\n",
        "    P = np.zeros((n, n), float)\n",
        "    np.fill_diagonal(P, 0.01)\n",
        "\n",
        "    A=np.zeros((n,n))\n",
        "    H=np.zeros((n,n))\n",
        "  \n",
        "    Q = p_mat_eye(X.shape[0], np.zeros((X.shape[0], X.shape[0])))\n",
        "    B = p_mat_eye(X.shape[0], np.zeros((X.shape[0], X.shape[0])))\n",
        "    U = np.zeros((X.shape[0],1)) \n",
        "\n",
        "    # Measurement matrices\n",
        "    Y=X+np.random.randn(n,1)\n",
        "    R = p_mat_eye(Y.shape[0], np.zeros((Y.shape[0], Y.shape[0])))\n",
        "    \n",
        "    \n",
        "    # Applying the Kalman Filte\n",
        "    for i in range(N_iter):\n",
        "        (X, P) = p_kf_predict(X, P, A, Q, B, U)\n",
        "        (X, P, K, IM, IS, LH) = p_kf_update(X, P, Y, H, R)\n",
        "        Y=X+0.1*np.random.randn(n,1)\n",
        "    time_f[1]=time.time()-time_f[1]\n",
        "    \n",
        "    df.iloc[n-1,1]=time_f[1]\n",
        "\n",
        "    #numpy\n",
        "    # Initialization of state matrices\n",
        "    time_f[2]=time.time()\n",
        "    X=np.zeros((n,1))\n",
        "    #X[n-2:,1]=0.1\n",
        "    P = np.zeros((n, n), float)\n",
        "    np.fill_diagonal(P, 0.01)\n",
        "\n",
        "    A=np.zeros((n,n))\n",
        "    H=np.zeros((n,n))\n",
        "    \n",
        "    Q = np.eye(X.shape[0])\n",
        "    B = np.eye(X.shape[0])\n",
        "    U = np.zeros((X.shape[0],1)) \n",
        "\n",
        "    # Measurement matrices\n",
        "    Y=X+np.random.randn(n,1)\n",
        "    R = np.eye(Y.shape[0])\n",
        "    \n",
        "    \n",
        "    # Applying the Kalman Filter\n",
        "    for i in range(N_iter):\n",
        "        (X, P) = np_kf_predict(X, P, A, Q, B, U)\n",
        "        (X, P, K, IM, IS, LH) = np_kf_update(X, P, Y, H, R)\n",
        "        Y=X+0.1*np.random.randn(n,1)\n",
        "    time_f[2]=time.time()-time_f[2]\n",
        "    \n",
        "    df.iloc[n-1,2]=time_f[2]\n",
        "    \n",
        "    \n",
        "df.drop([1,2], inplace=True)    \n",
        "print(df)\n",
        "plt.figure(figsize=(8,6), dpi=80)\n",
        "plt.plot(df)\n",
        "plt.legend(['Sequentiel', 'Parallel', 'Numpy'])\n",
        "plt.xlabel(\"N\")\n",
        "plt.ylabel(\"Temps d'exécution\")\n",
        "plt.title(\"Temps d'exécution en fonction de la taille de la matrice\")"
      ],
      "execution_count": 0,
      "outputs": [
        {
          "output_type": "stream",
          "text": [
            "  Résultats séquentiel Résultats parallèle Résultats numpy\n",
            "3            0.0608366           0.0279212      0.00698066\n",
            "4              0.16456           0.0598385       0.0129714\n",
            "5             0.365016            0.186502      0.00598359\n",
            "6              1.50897             1.36739      0.00596428\n",
            "7                11.41             7.44305      0.00598335\n"
          ],
          "name": "stdout"
        },
        {
          "output_type": "execute_result",
          "data": {
            "text/plain": [
              "Text(0.5, 1.0, \"Temps d'exécution en fonction de la taille de la matrice\")"
            ]
          },
          "metadata": {
            "tags": []
          },
          "execution_count": 89
        },
        {
          "output_type": "display_data",
          "data": {
            "image/png": "[encoded data removed]",
            "text/plain": [
              "<Figure size 640x480 with 1 Axes>"
            ]
          },
          "metadata": {
            "tags": [],
            "needs_background": "light"
          }
        }
      ]
    },
    {
      "cell_type": "markdown",
      "metadata": {
        "colab_type": "text",
        "id": "QMDyUSu8sm2o"
      },
      "source": [
        "*Calcul du temps d'exécution en fonction du nombre d'itérations*"
      ]
    },
    {
      "cell_type": "code",
      "metadata": {
        "colab_type": "code",
        "id": "fbxqxWEzsm2p",
        "colab": {}
      },
      "source": [
        "exe_time = np.zeros((100,4))\n",
        "t = 0 \n",
        "\n",
        "for N_iter in range(10, 10000, 100):\n",
        "    \n",
        "    exe_time[t, 0] = N_iter\n",
        "    \n",
        "    \n",
        "    \n",
        "    \n",
        "    # Sequentiel\n",
        "    start_time = time.time()\n",
        "    \n",
        "    #time step of mobile movement\n",
        "    dt = 0.1\n",
        "\n",
        "    # Initialization of state matrices\n",
        "    X = np.array([[0.0], [0.0], [0.1], [0.1]])\n",
        "    P = s_mat_diag((0.01, 0.01, 0.01, 0.01))\n",
        "    A = np.array([[1, 0, dt , 0], [0, 1, 0, dt], [0, 0, 1, 0], [0, 0, 0, 1]])\n",
        "    Q = s_mat_eye(X.shape[0])\n",
        "    B = s_mat_eye(X.shape[0])\n",
        "    U = np.zeros((X.shape[0],1)) \n",
        "\n",
        "    # Measurement matrices\n",
        "    Y = np.array([[X[0,0] + abs(np.random.randn(1)[0])], [X[1,0] + abs(np.random.randn(1)[0])]])\n",
        "    H = np.array([[1, 0, 0, 0], [0, 1, 0, 0]])\n",
        "    R = s_mat_eye(Y.shape[0])\n",
        "\n",
        "    # Applying the Kalman Filter\n",
        "    for i in range(N_iter):\n",
        "        (X, P) = s_kf_predict(X, P, A, Q, B, U)\n",
        "        (X, P, K, IM, IS, LH) = s_kf_update(X, P, Y, H, R)\n",
        "        Y = np.array([[X[0,0] + abs(0.1 * np.random.randn(1)[0])],[X[1, 0] + abs(0.1 * np.random.randn(1)[0])]])\n",
        "        \n",
        "    exe_time[t, 1] = time.time() - start_time\n",
        "    \n",
        "    \n",
        "    \n",
        "    \n",
        "    # Parallélisé\n",
        "    start_time = time.time()\n",
        "    \n",
        "    #time step of mobile movement\n",
        "    dt = 0.1\n",
        "\n",
        "    # Initialization of state matrices\n",
        "    X = np.array([[0.0], [0.0], [0.1], [0.1]])\n",
        "    P = p_mat_diag(np.array([0.01, 0.01, 0.01, 0.01]), np.zeros((np.array([0.01, 0.01, 0.01, 0.01]).shape[0], np.array([0.01, 0.01, 0.01, 0.01]).shape[0])))\n",
        "    A = np.array([[1, 0, dt , 0], [0, 1, 0, dt], [0, 0, 1, 0], [0, 0, 0, 1]])\n",
        "    Q = p_mat_eye(X.shape[0], np.zeros((X.shape[0], X.shape[0])))\n",
        "    B = p_mat_eye(X.shape[0], np.zeros((X.shape[0], X.shape[0])))\n",
        "    U = np.zeros((X.shape[0],1)) \n",
        "\n",
        "    # Measurement matrices\n",
        "    Y = np.array([[X[0,0] + abs(np.random.randn(1)[0])], [X[1,0] + abs(np.random.randn(1)[0])]])\n",
        "    H = np.array([[1, 0, 0, 0], [0, 1, 0, 0]])\n",
        "    R = p_mat_eye(Y.shape[0], np.zeros((Y.shape[0], Y.shape[0])))\n",
        "\n",
        "    # Number of iterations in Kalman Filter\n",
        "    N_iter = 50\n",
        "\n",
        "    # Applying the Kalman Filter\n",
        "    for i in range(N_iter):\n",
        "        (X, P) = p_kf_predict(X, P, A, Q, B, U)\n",
        "        (X, P, K, IM, IS, LH) = p_kf_update(X, P, Y, H, R)\n",
        "        Y = np.array([[X[0,0] + abs(0.1 * np.random.randn(1)[0])],[X[1, 0] + abs(0.1 * np.random.randn(1)[0])]])\n",
        "\n",
        "    \n",
        "    exe_time[t, 2] = time.time() - start_time\n",
        "    \n",
        "    \n",
        "    \n",
        "    \n",
        "    # Numpy\n",
        "    start_time = time.time()\n",
        "    \n",
        "    #time step of mobile movement\n",
        "    dt = 0.1\n",
        "\n",
        "    # Initialization of state matrices\n",
        "    X = np.array([[0.0], [0.0], [0.1], [0.1]])\n",
        "    P = np.diag((0.01, 0.01, 0.01, 0.01))\n",
        "    A = np.array([[1, 0, dt , 0], [0, 1, 0, dt], [0, 0, 1, 0], [0, 0, 0, 1]])\n",
        "    Q = np.eye(X.shape[0])\n",
        "    B = np.eye(X.shape[0])\n",
        "    U = np.zeros((X.shape[0],1)) \n",
        "\n",
        "    # Measurement matrices\n",
        "    Y = np.array([[X[0,0] + abs(np.random.randn(1)[0])], [X[1,0] + abs(np.random.randn(1)[0])]])\n",
        "    H = np.array([[1, 0, 0, 0], [0, 1, 0, 0]])\n",
        "    R = np.eye(Y.shape[0])\n",
        "\n",
        "    # Number of iterations in Kalman Filter\n",
        "    N_iter = 50\n",
        "\n",
        "    # Applying the Kalman Filter\n",
        "    for i in range(N_iter):\n",
        "        (X, P) = np_kf_predict(X, P, A, Q, B, U)\n",
        "        (X, P, K, IM, IS, LH) = np_kf_update(X, P, Y, H, R)\n",
        "        Y = np.array([[X[0,0] + abs(0.1 * np.random.randn(1)[0])],[X[1, 0] + abs(0.1 * np.random.randn(1)[0])]])\n",
        "    \n",
        "    exe_time[t, 3] = time.time() - start_time\n",
        "    \n",
        "    \n",
        "    \n",
        "    \n",
        "    t += 1"
      ],
      "execution_count": 0,
      "outputs": []
    },
    {
      "cell_type": "code",
      "metadata": {
        "colab_type": "code",
        "id": "OJnm_ieAsm2s",
        "outputId": "aa8babea-3df2-4c30-8228-bcb62694893c",
        "colab": {}
      },
      "source": [
        "plt.figure(figsize=(8,6), dpi=80)\n",
        "plt.plot(exe_time[:,0], exe_time[:,2], label='parallélisé')\n",
        "plt.plot(exe_time[:,0], exe_time[:,3], label = 'numpy')\n",
        "plt.legend()\n",
        "plt.title('Parallélisé VS Numpy')\n",
        "plt.xlabel(\"Nombre d'itérations\")\n",
        "plt.ylabel(\"Temps d'exécution\")"
      ],
      "execution_count": 0,
      "outputs": [
        {
          "output_type": "execute_result",
          "data": {
            "text/plain": [
              "Text(0, 0.5, \"Temps d'exécution\")"
            ]
          },
          "metadata": {
            "tags": []
          },
          "execution_count": 81
        },
        {
          "output_type": "display_data",
          "data": {
            "image/png": "[encoded data removed]",
            "text/plain": [
              "<Figure size 640x480 with 1 Axes>"
            ]
          },
          "metadata": {
            "tags": [],
            "needs_background": "light"
          }
        }
      ]
    },
    {
      "cell_type": "code",
      "metadata": {
        "colab_type": "code",
        "id": "rI_9AAjAsm2u",
        "outputId": "04ad085e-439f-4cce-d1e6-0a51ee24ec96",
        "colab": {}
      },
      "source": [
        "plt.figure(figsize=(8,6), dpi=80)\n",
        "plt.plot(exe_time[:,0], exe_time[:,2], label='parallélisé')\n",
        "plt.plot(exe_time[:,0], exe_time[:,1], label = 'séquentiel')\n",
        "plt.legend()\n",
        "plt.title('Parallélisé VS Séquentiel')\n",
        "plt.xlabel(\"Nombre d'itérations\")\n",
        "plt.ylabel(\"Temps d'exécution\")\n",
        "plt.show()"
      ],
      "execution_count": 0,
      "outputs": [
        {
          "output_type": "display_data",
          "data": {
            "image/png": "[encoded data removed]",
            "text/plain": [
              "<Figure size 640x480 with 1 Axes>"
            ]
          },
          "metadata": {
            "tags": [],
            "needs_background": "light"
          }
        }
      ]
    },
    {
      "cell_type": "markdown",
      "metadata": {
        "colab_type": "text",
        "id": "w4d3ykf7o4Cw"
      },
      "source": [
        "## 7. Conclusion"
      ]
    },
    {
      "cell_type": "markdown",
      "metadata": {
        "colab_type": "text",
        "id": "ha8W4BMYo97l"
      },
      "source": [
        "**Calcul matriciel**\n",
        "\n",
        "Pour chaque fonction que l'on a implémentée on a mesuré leurs temps d'exécution pour une application simple avec une matrice et des paramètres fixés et similaires pour les trois fonctions. On a aussi mesuré l'évolution de leur temps d'exécution en fonction de la taille n de la matrice. \n",
        "\n",
        "Globalement, pour chaque fonction la parallélisation améliore le temps d'exécution. Les différents graphiques des mesures nous montrent parfois des pics dans le coût parallèle, cela est dû au fait que la parallélisation a un coût d'implémentation et il faut un certain nombre d'itérations pour qu'elle devienne rentable.\n",
        "\n",
        "Pour des fonctions simples telles que `mat_diag` ou `mat_eye`, la faible complexité des algorithmes font que les calculs sont peu coûteux pour aucune de nos fonctions ce qui engendre des coûts proches de ceux de numpy. \n",
        "Dès que la complexité de l'algorithme et le nombre de calculs dans la fonction augmentent, le coût séquentiel devient linéaire alors que le coût parallèle reste proche de celui de numpy (`mat_dot`, `mat_transpose`, `mat_sum`, `mat_LU`).\n",
        "\n",
        "Pour ce qui concerne `mat_det` le coût parallèle est un peu inférieur à celui du coût séquentiel mais il suit la même tendance. Cela est dû au fait qu'il n'est pas possible de paralléliser avec Cython un algorithme récursif du fait des conditions GIL que l'on retire. "
      ]
    },
    {
      "cell_type": "markdown",
      "metadata": {
        "colab_type": "text",
        "id": "Ck1Avx6Csm2x"
      },
      "source": [
        "**Filtre de Kalman**\n",
        "\n",
        "Pour la mesure du temps d'exécution du filtre de Kalman, on trouve dans l'application un temps séquentiel à 60.3 ms, parallèle à 33 ms et numpy à 12.9ms. La parallélisation de l'algorithme réduit de moitié le temps d’exécution du filtre mais il n'est toujours pas au niveau de celui de numpy\n",
        "\n",
        "Dans Mesure et Graphique du filtre de Kalman on a souhaité mesurer les temps d'exécution pour différentes tailles de matrice. Les résultats nous montrent un coût parallèle inférieur au coût séquentiel mais très loin du faible coût de numpy. Cela est peut-être dû au fait qu'en raison de la capacité de nos ordinateurs nous avons été limités dans la taille maximale de la matrice. \n",
        "\n",
        "On a ensuite représenté le mesurer le temps d'exécution pour des nombres d'itérations différents. On observe tout d'abord que même si notre algorithme parallélisé n'est pas aussi rapide que Numpy, il le bat néanmoins pour certains nombres d'itérations, et il reste dans la même proportion en terme de vitesse. De plus, la parallélisation permet de largement diminuer le coût par rapport à l'algorithme en séquentiel, et ceux de manière croissante avec le nombre d'itérations. En effet, quelque soit le nombre d'itération, le coût séquentiel reste inférieur à 0.15 secondes, alors que le coût séquentiel est croissant avec le nombre d'itérations et atteint les 20 secondes pour un nombre d'itérations supérieur à 8000."
      ]
    }
  ]
}